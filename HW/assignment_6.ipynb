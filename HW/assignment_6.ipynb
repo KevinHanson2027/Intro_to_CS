{
 "cells": [
  {
   "cell_type": "markdown",
   "metadata": {},
   "source": [
    "# Assigment 6\n",
    "Given the list myList = [12, 11, 2, 3, 7, 32, 21, 5, 9], implement\n",
    "\n",
    "- a while loop to print each element in the list\n",
    "- a for loop to print all elements whose value is even\n",
    "- use list comprehension to find the square of each element in the list.\n",
    "\n",
    "What to submit: Your Python script.\n",
    "\n",
    "---"
   ]
  },
  {
   "cell_type": "code",
   "execution_count": 6,
   "metadata": {},
   "outputs": [
    {
     "name": "stdout",
     "output_type": "stream",
     "text": [
      "12\n",
      "11\n",
      "2\n",
      "3\n",
      "7\n",
      "32\n",
      "21\n",
      "5\n",
      "9\n"
     ]
    }
   ],
   "source": [
    "# Task 1\n",
    "myList = [12, 11, 2, 3, 7, 32, 21, 5, 9]\n",
    "\n",
    "i = 0\n",
    "while i < len(myList):\n",
    "    print(myList[i])\n",
    "    i += 1"
   ]
  },
  {
   "cell_type": "code",
   "execution_count": 19,
   "metadata": {},
   "outputs": [
    {
     "name": "stdout",
     "output_type": "stream",
     "text": [
      "12\n",
      "2\n",
      "32\n"
     ]
    }
   ],
   "source": [
    "# Task 2 \n",
    "myList = [12, 11, 2, 3, 7, 32, 21, 5, 9]\n",
    "\n",
    "for i in myList:\n",
    "    if i % 2 == 0:\n",
    "        print(i)"
   ]
  },
  {
   "cell_type": "code",
   "execution_count": 18,
   "metadata": {},
   "outputs": [
    {
     "name": "stdout",
     "output_type": "stream",
     "text": [
      "[144, 121, 4, 9, 49, 1024, 441, 25, 81]\n"
     ]
    }
   ],
   "source": [
    "# Task 3\n",
    "myList = [12, 11, 2, 3, 7, 32, 21, 5, 9]\n",
    "\n",
    "newList = [i ** 2 for i in myList]"
   ]
  }
 ],
 "metadata": {
  "kernelspec": {
   "display_name": "Python 3",
   "language": "python",
   "name": "python3"
  },
  "language_info": {
   "codemirror_mode": {
    "name": "ipython",
    "version": 3
   },
   "file_extension": ".py",
   "mimetype": "text/x-python",
   "name": "python",
   "nbconvert_exporter": "python",
   "pygments_lexer": "ipython3",
   "version": "3.11.9"
  }
 },
 "nbformat": 4,
 "nbformat_minor": 2
}
