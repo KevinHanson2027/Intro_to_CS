{
 "cells": [
  {
   "cell_type": "markdown",
   "metadata": {},
   "source": [
    "# Assignment 8\n",
    "\n",
    "---"
   ]
  },
  {
   "cell_type": "markdown",
   "metadata": {},
   "source": [
    "## Write a Python script that implements the following 2 functions:\n",
    "### Function 1:\n",
    "\n",
    "- takes a dictionary (e.g., d) and a key (e.g., k) as parameters\n",
    "- checks whether or not k is included in d and prints either \"the key is in d\" or \"the key is not in d\" accordingly\n",
    "\n",
    "### Function 2:\n",
    "\n",
    "- takes a dictionary (e.g., d) and a key (e.g., k) as parameters\n",
    "- checks whether or not k is included in d and returns a boolean value (i.e., either true or false accordingly)\n",
    "\n",
    "---\n",
    "\n",
    "### Function 3:\n",
    "\n",
    "Given a list of temperatures in Celsius: celsius = [0, 10, 20, 30, 40]\n",
    "\n",
    "- Use a lambda function with the map() function to convert each temperature to Fahrenheit.\n",
    "- Formula for conversion: Fahrenheit = Celsius * 9/5 + 32\n",
    "- Print the list of temperatures in Fahrenheit.\n",
    "\n",
    "### Function 4:\n",
    "Given a list of words: words = ['apple', 'banana', 'cherry', 'date', 'elderberry', 'fig', 'grape']\n",
    "\n",
    "- Use a lambda function with the filter() function to create a new list that contains only the words with more than 5 letters.\n",
    "\n",
    "---"
   ]
  },
  {
   "cell_type": "code",
   "execution_count": null,
   "metadata": {},
   "outputs": [],
   "source": [
    "# Function 1\n"
   ]
  },
  {
   "cell_type": "code",
   "execution_count": null,
   "metadata": {},
   "outputs": [],
   "source": [
    "# Function 2\n"
   ]
  },
  {
   "cell_type": "code",
   "execution_count": null,
   "metadata": {},
   "outputs": [],
   "source": [
    "# Function 3\n",
    "celsius = [0, 10, 20, 30, 40]\n"
   ]
  },
  {
   "cell_type": "code",
   "execution_count": null,
   "metadata": {},
   "outputs": [],
   "source": [
    "# Function 3\n",
    "words = ['apple', 'banana', 'cherry', 'date', 'elderberry', 'fig', 'grape']"
   ]
  }
 ],
 "metadata": {
  "kernelspec": {
   "display_name": "Python 3",
   "language": "python",
   "name": "python3"
  },
  "language_info": {
   "codemirror_mode": {
    "name": "ipython",
    "version": 3
   },
   "file_extension": ".py",
   "mimetype": "text/x-python",
   "name": "python",
   "nbconvert_exporter": "python",
   "pygments_lexer": "ipython3",
   "version": "3.11.9"
  }
 },
 "nbformat": 4,
 "nbformat_minor": 2
}
