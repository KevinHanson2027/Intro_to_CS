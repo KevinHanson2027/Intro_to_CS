{
 "cells": [
  {
   "cell_type": "markdown",
   "metadata": {},
   "source": [
    "# WK 7 Python List\n",
    "\n",
    "----"
   ]
  },
  {
   "cell_type": "code",
   "execution_count": 3,
   "metadata": {},
   "outputs": [
    {
     "name": "stdout",
     "output_type": "stream",
     "text": [
      "['Apple', 'Bannana', 'Grape']\n"
     ]
    }
   ],
   "source": [
    "thislist = [\"Apple\", \"Bannana\", \"Grape\",]\n",
    "print(thislist)\n",
    "\n",
    "# Sublist\n",
    "thislist2 = [1, 2 , 3 [1, 2 , 3]]"
   ]
  },
  {
   "cell_type": "markdown",
   "metadata": {},
   "source": [
    "### Lists\n",
    "- a list is a sequential collection of python data which is defined by an index\n",
    "- indexing a list"
   ]
  },
  {
   "cell_type": "code",
   "execution_count": 24,
   "metadata": {},
   "outputs": [
    {
     "name": "stdout",
     "output_type": "stream",
     "text": [
      "[['Bones', 'of', 'full', 'fifty', 'men', 'lie', 'strewn', 'about', 'its', 'lair', 'So', 'brave', 'knights', 'if', 'you', 'do', 'doubt', 'your', 'courage', 'or', 'your', 'strength', 'come', 'no', 'further', 'for', 'death', 'awaits', 'you', 'all', 'with', 'nasty', 'big', 'pointy', 'teeth']]\n"
     ]
    }
   ],
   "source": [
    "# Excercise 1 \n",
    "myList = [\"Bones of full fifty men lie strewn about its lair. So, brave knights, if you do doubt your courage or your strength, come no further, for death awaits you all with nasty, big, pointy teeth.\"]\n",
    "\n",
    "newList = [x.replace(\",\", \" \").replace(\".\", \" \").split() for x in myList]\n",
    "print(newList)"
   ]
  },
  {
   "cell_type": "code",
   "execution_count": 41,
   "metadata": {},
   "outputs": [
    {
     "name": "stdout",
     "output_type": "stream",
     "text": [
      "Please Enter 6 Integers Below Under 42:\n",
      "Please enter a number:\n",
      "5\n",
      "Please enter a number:\n",
      "10\n",
      "Please enter a number:\n",
      "12\n",
      "Please enter a number:\n",
      "30\n",
      "Please enter a number:\n",
      "25\n",
      "Please enter a number:\n",
      "20\n",
      "[5, 10, 12, 20, 25, 30]\n",
      "The mean is: 17.0\n",
      "The median is: 22.0\n"
     ]
    }
   ],
   "source": [
    "# Excercise 2 \n",
    "\n",
    "print(\"Please Enter 6 Integers Below Under 42:\")\n",
    "User_input1 = int(input(print(\"Please enter a number:\")))\n",
    "\n",
    "if User_input1 > 42:\n",
    "    print(\"Invalid Input\")\n",
    "else:\n",
    "    print(User_input1)\n",
    "\n",
    "User_input2 = int(input(print(\"Please enter a number:\")))\n",
    "if User_input2 > 42:\n",
    "    print(\"Invalid Input\")\n",
    "else:\n",
    "    print(User_input2)\n",
    "\n",
    "User_input3 = int(input(print(\"Please enter a number:\")))\n",
    "if User_input3 > 42:\n",
    "    print(\"Invalid Input\")\n",
    "else:\n",
    "    print(User_input3)\n",
    "\n",
    "User_input4 = int(input(print(\"Please enter a number:\")))\n",
    "if User_input4 > 42:\n",
    "    print(\"Invalid Input\")\n",
    "else:\n",
    "    print(User_input4)\n",
    "\n",
    "User_input5 = int(input(print(\"Please enter a number:\")))\n",
    "if User_input5 > 42:\n",
    "    print(\"Invalid Input\")\n",
    "else:\n",
    "    print(User_input5)\n",
    "\n",
    "User_input6 = int(input(print(\"Please enter a number:\")))\n",
    "if User_input6 > 42:\n",
    "    print(\"Invalid Input\")\n",
    "else:\n",
    "    print(User_input6)\n",
    "\n",
    "myList = []\n",
    "\n",
    "myList.append(User_input1)\n",
    "myList.append(User_input2)\n",
    "myList.append(User_input3)\n",
    "myList.append(User_input4)\n",
    "myList.append(User_input5)\n",
    "myList.append(User_input6)\n",
    "myList.sort()\n",
    "\n",
    "print(myList)\n",
    "\n",
    "print(\"The mean is:\", sum(myList) / 6)\n",
    "print(\"The median is:\", myList[2] + myList[3] / 2)\n"
   ]
  },
  {
   "cell_type": "code",
   "execution_count": 44,
   "metadata": {},
   "outputs": [
    {
     "name": "stdout",
     "output_type": "stream",
     "text": [
      "Enter a Number:\n",
      "0\n",
      "Enter a Number:\n",
      "1\n",
      "Enter a Number:\n",
      "2\n",
      "Enter a Number:\n",
      "3\n",
      "Enter a Number:\n",
      "4\n",
      "Enter a Number:\n",
      "5\n"
     ]
    }
   ],
   "source": [
    "# Excercise 2 (ALT)\n",
    "\n",
    "for i in range(6):\n",
    "    x = int(input(print(\"Enter a Number:\")))\n",
    "    if i < 42:\n",
    "        print(i)\n",
    "    else:\n",
    "        print(\"Error\")"
   ]
  },
  {
   "cell_type": "code",
   "execution_count": null,
   "metadata": {},
   "outputs": [],
   "source": []
  }
 ],
 "metadata": {
  "kernelspec": {
   "display_name": "Python 3",
   "language": "python",
   "name": "python3"
  },
  "language_info": {
   "codemirror_mode": {
    "name": "ipython",
    "version": 3
   },
   "file_extension": ".py",
   "mimetype": "text/x-python",
   "name": "python",
   "nbconvert_exporter": "python",
   "pygments_lexer": "ipython3",
   "version": "3.11.9"
  }
 },
 "nbformat": 4,
 "nbformat_minor": 2
}
