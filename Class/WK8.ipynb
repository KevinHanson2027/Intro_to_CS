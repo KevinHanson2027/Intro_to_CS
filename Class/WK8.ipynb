{
 "cells": [
  {
   "cell_type": "code",
   "execution_count": 7,
   "metadata": {},
   "outputs": [
    {
     "name": "stdout",
     "output_type": "stream",
     "text": [
      "<class 'tuple'>\n"
     ]
    }
   ],
   "source": [
    "# Single Value Tuple List\n",
    "my_tuple = (1,)\n",
    "print(type(my_tuple))"
   ]
  },
  {
   "cell_type": "code",
   "execution_count": 30,
   "metadata": {},
   "outputs": [
    {
     "name": "stdout",
     "output_type": "stream",
     "text": [
      "('Pasta', 12.99, 'In Stock')\n",
      "('Burger', 8.99, 'Out of Stock')\n",
      "('Salad', 7.5, 'In Stock')\n",
      "('Pizza', 11.99, 'In Stock')\n",
      "('Burger', 8.99, 'In Stock')\n",
      "Pizza\n"
     ]
    }
   ],
   "source": [
    "# Restaurant Menu Management\n",
    "menu = [\n",
    "    (\"Pasta\", 12.99, \"In Stock\"),\n",
    "    (\"Burger\", 8.99, \"Out of Stock\"),\n",
    "    (\"Salad\", 7.50, \"In Stock\"),\n",
    "    (\"Pizza\", 11.99, \"In Stock\"),\n",
    "    (\"Burger\", 8.99, \"In Stock\")\n",
    "]\n",
    "\n",
    "# Task 1\n",
    "for x in menu:\n",
    "    print(x)\n",
    "    \n",
    "# Task 2 \n",
    "print(menu[3][0])\n",
    "\n",
    "# Task 3\n",
    "In_Stock = 0 \n",
    "\n",
    "for x in menu:\n",
    "    if x == \"In Stock\":\n",
    "        In_Stock += 1"
   ]
  },
  {
   "cell_type": "code",
   "execution_count": 20,
   "metadata": {},
   "outputs": [
    {
     "name": "stdout",
     "output_type": "stream",
     "text": [
      "{'name': 'Marc', 'grade': 90, 'Major': 'CS'}\n"
     ]
    }
   ],
   "source": [
    "# Dictionary Practice \n",
    "\n",
    "d = {}\n",
    "\n",
    "d[\"name\"] = \"Marc\"\n",
    "d[\"grade\"] = 85\n",
    "\n",
    "# Update the value\n",
    "d[\"grade\"] = 90\n",
    "\n",
    "d[\"Major\"] = \"CS\"\n",
    "\n",
    "print(d)"
   ]
  },
  {
   "cell_type": "code",
   "execution_count": 21,
   "metadata": {},
   "outputs": [
    {
     "name": "stdout",
     "output_type": "stream",
     "text": [
      "{2: 'Two'}\n"
     ]
    }
   ],
   "source": [
    "d = {1:\"One\", 2:\"Two\"}\n",
    "\n",
    "del d[1]\n",
    "print(d)"
   ]
  },
  {
   "cell_type": "code",
   "execution_count": 23,
   "metadata": {},
   "outputs": [
    {
     "ename": "NameError",
     "evalue": "name 'grade' is not defined",
     "output_type": "error",
     "traceback": [
      "\u001b[1;31m---------------------------------------------------------------------------\u001b[0m",
      "\u001b[1;31mNameError\u001b[0m                                 Traceback (most recent call last)",
      "Cell \u001b[1;32mIn[23], line 8\u001b[0m\n\u001b[0;32m      1\u001b[0m grades \u001b[38;5;241m=\u001b[39m {\n\u001b[0;32m      2\u001b[0m \t\u001b[38;5;124m\"\u001b[39m\u001b[38;5;124mAlice\u001b[39m\u001b[38;5;124m\"\u001b[39m : \u001b[38;5;241m85\u001b[39m,\n\u001b[0;32m      3\u001b[0m \t\u001b[38;5;124m\"\u001b[39m\u001b[38;5;124mBob\u001b[39m\u001b[38;5;124m\"\u001b[39m : \u001b[38;5;241m72\u001b[39m,\n\u001b[0;32m      4\u001b[0m \t\u001b[38;5;124m\"\u001b[39m\u001b[38;5;124mClara\u001b[39m\u001b[38;5;124m\"\u001b[39m : \u001b[38;5;241m92\u001b[39m\n\u001b[0;32m      5\u001b[0m }\n\u001b[0;32m      7\u001b[0m \u001b[38;5;66;03m# Remove all studennts with a grade under 80\u001b[39;00m\n\u001b[1;32m----> 8\u001b[0m \u001b[38;5;28;01mif\u001b[39;00m \u001b[43mgrade\u001b[49m \u001b[38;5;241m<\u001b[39m \u001b[38;5;241m80\u001b[39m:\n\u001b[0;32m      9\u001b[0m \t\u001b[38;5;28;01mdel\u001b[39;00m grade\n\u001b[0;32m     10\u001b[0m \u001b[38;5;28;01melse\u001b[39;00m:\n",
      "\u001b[1;31mNameError\u001b[0m: name 'grade' is not defined"
     ]
    }
   ],
   "source": [
    "grades = {\n",
    "\t\"Alice\" : 85,\n",
    "\t\"Bob\" : 72,\n",
    "\t\"Clara\" : 92\n",
    "}\n",
    "\n",
    "# Remove all studennts with a grade under 80\n",
    "if grade < 80:\n",
    "\tdel grade\n",
    "else:\n",
    "\tprint(grades)"
   ]
  },
  {
   "cell_type": "code",
   "execution_count": 43,
   "metadata": {},
   "outputs": [
    {
     "name": "stdout",
     "output_type": "stream",
     "text": [
      "dict_keys(['Joel', 'Anne', 'Ben'])\n"
     ]
    }
   ],
   "source": [
    "# ICE 3\n",
    "contacts ={\n",
    "    \"Joel\":\n",
    "        {\"address\": \"1500 Anystreet\", \"city\": \"San Francisco\",\n",
    "         \"state\": \"California\", \"postalCode\": \"94110\",\n",
    "         \"phone\": \"555-555-1111\"},\n",
    "    \"Anne\":\n",
    "        {\"address\": \"1000 Somestreet\", \"city\": \"Fresno\",\n",
    "         \"state\": \"California\", \"postalCode\": \"93704\",\n",
    "         \"phone\": \"125-555-2222\"},\n",
    "    \"Ben\":\n",
    "        {\"address\": \"1400 Another Street\", \"city\": \"Fresno\",\n",
    "         \"state\": \"California\", \"postalCode\": \"93704\",\n",
    "         \"phone\": \"125-555-4444\"}\n",
    "}\n",
    " \n",
    "# Task \n",
    "print( contacts.keys())\n",
    "\n"
   ]
  },
  {
   "cell_type": "code",
   "execution_count": 46,
   "metadata": {},
   "outputs": [
    {
     "ename": "KeyError",
     "evalue": "'name'",
     "output_type": "error",
     "traceback": [
      "\u001b[1;31m---------------------------------------------------------------------------\u001b[0m",
      "\u001b[1;31mKeyError\u001b[0m                                  Traceback (most recent call last)",
      "Cell \u001b[1;32mIn[46], line 16\u001b[0m\n\u001b[0;32m      1\u001b[0m contacts \u001b[38;5;241m=\u001b[39m{\n\u001b[0;32m      2\u001b[0m     \u001b[38;5;124m\"\u001b[39m\u001b[38;5;124mJoel\u001b[39m\u001b[38;5;124m\"\u001b[39m:\n\u001b[0;32m      3\u001b[0m         {\u001b[38;5;124m\"\u001b[39m\u001b[38;5;124maddress\u001b[39m\u001b[38;5;124m\"\u001b[39m: \u001b[38;5;124m\"\u001b[39m\u001b[38;5;124m1500 Anystreet\u001b[39m\u001b[38;5;124m\"\u001b[39m, \u001b[38;5;124m\"\u001b[39m\u001b[38;5;124mcity\u001b[39m\u001b[38;5;124m\"\u001b[39m: \u001b[38;5;124m\"\u001b[39m\u001b[38;5;124mSan Francisco\u001b[39m\u001b[38;5;124m\"\u001b[39m,\n\u001b[1;32m   (...)\u001b[0m\n\u001b[0;32m     13\u001b[0m          \u001b[38;5;124m\"\u001b[39m\u001b[38;5;124mphone\u001b[39m\u001b[38;5;124m\"\u001b[39m: \u001b[38;5;124m\"\u001b[39m\u001b[38;5;124m125-555-4444\u001b[39m\u001b[38;5;124m\"\u001b[39m}\n\u001b[0;32m     14\u001b[0m }\n\u001b[1;32m---> 16\u001b[0m \u001b[38;5;28;01mif\u001b[39;00m \u001b[43mcontacts\u001b[49m\u001b[43m[\u001b[49m\u001b[38;5;124;43m\"\u001b[39;49m\u001b[38;5;124;43mname\u001b[39;49m\u001b[38;5;124;43m\"\u001b[39;49m\u001b[43m]\u001b[49m[postalCode] \u001b[38;5;241m==\u001b[39m \u001b[38;5;124m\"\u001b[39m\u001b[38;5;124m937034\u001b[39m\u001b[38;5;124m\"\u001b[39m:\n\u001b[0;32m     17\u001b[0m     \u001b[38;5;28mprint\u001b[39m(\u001b[38;5;124mf\u001b[39m\u001b[38;5;124m\"\u001b[39m\u001b[38;5;132;01m{\u001b[39;00mname\u001b[38;5;132;01m}\u001b[39;00m\u001b[38;5;124m\"\u001b[39m)\n",
      "\u001b[1;31mKeyError\u001b[0m: 'name'"
     ]
    }
   ],
   "source": [
    "contacts ={\n",
    "    \"Joel\":\n",
    "        {\"address\": \"1500 Anystreet\", \"city\": \"San Francisco\",\n",
    "         \"state\": \"California\", \"postalCode\": \"94110\",\n",
    "         \"phone\": \"555-555-1111\"},\n",
    "    \"Anne\":\n",
    "        {\"address\": \"1000 Somestreet\", \"city\": \"Fresno\",\n",
    "         \"state\": \"California\", \"postalCode\": \"93704\",\n",
    "         \"phone\": \"125-555-2222\"},\n",
    "    \"Ben\":\n",
    "        {\"address\": \"1400 Another Street\", \"city\": \"Fresno\",\n",
    "         \"state\": \"California\", \"postalCode\": \"93704\",\n",
    "         \"phone\": \"125-555-4444\"}\n",
    "}\n",
    "\n",
    "if contacts[name][postalCode] == \"937034\":\n",
    "    print(f\"{name}\")"
   ]
  },
  {
   "cell_type": "code",
   "execution_count": 51,
   "metadata": {},
   "outputs": [
    {
     "ename": "SyntaxError",
     "evalue": "invalid syntax (3529757669.py, line 17)",
     "output_type": "error",
     "traceback": [
      "\u001b[1;36m  Cell \u001b[1;32mIn[51], line 17\u001b[1;36m\u001b[0m\n\u001b[1;33m    contacts[name].update({\"phone\"}:,\"555-555-1111\")\u001b[0m\n\u001b[1;37m                                   ^\u001b[0m\n\u001b[1;31mSyntaxError\u001b[0m\u001b[1;31m:\u001b[0m invalid syntax\n"
     ]
    }
   ],
   "source": [
    "contacts ={\n",
    "    \"Joel\":\n",
    "        {\"address\": \"1500 Anystreet\", \"city\": \"San Francisco\",\n",
    "         \"state\": \"California\", \"postalCode\": \"94110\",\n",
    "         \"phone\": \"555-555-1111\"},\n",
    "    \"Anne\":\n",
    "        {\"address\": \"1000 Somestreet\", \"city\": \"Fresno\",\n",
    "         \"state\": \"California\", \"postalCode\": \"93704\",\n",
    "         \"phone\": \"125-555-2222\"},\n",
    "    \"Ben\":\n",
    "        {\"address\": \"1400 Another Street\", \"city\": \"Fresno\",\n",
    "         \"state\": \"California\", \"postalCode\": \"93704\",\n",
    "         \"phone\": \"125-555-4444\"}\n",
    "}\n",
    "\n",
    "if contact[name][\"phone\"] == \"555-555-1111\":\n",
    "    contacts[name].update({\"phone\"}:,\"555-555-1111\")"
   ]
  },
  {
   "cell_type": "code",
   "execution_count": 68,
   "metadata": {},
   "outputs": [
    {
     "name": "stdout",
     "output_type": "stream",
     "text": [
      "US\n",
      "New York\n",
      "Los Angeles\n",
      "Chicago\n",
      "CA\n",
      "Toronto\n",
      "Vancouver\n",
      "Montreal\n",
      "GB\n",
      "London\n",
      "Birmingham\n",
      "Manchester\n",
      "FR\n",
      "Paris\n",
      "Marseille\n",
      "Lyon\n",
      "JP\n",
      "Tokyo\n",
      "Osaka\n",
      "Kyoto\n"
     ]
    }
   ],
   "source": [
    "# ICE 4\n",
    "country_cities = {\n",
    "    \"US\": [\"New York\", \"Los Angeles\", \"Chicago\"],\n",
    "    \"CA\": [\"Toronto\", \"Vancouver\", \"Montreal\"],\n",
    "    \"GB\": [\"London\", \"Birmingham\", \"Manchester\"],\n",
    "    \"FR\": [\"Paris\", \"Marseille\", \"Lyon\"],\n",
    "    \"JP\": [\"Tokyo\", \"Osaka\", \"Kyoto\"]\n",
    "}\n",
    "for country in country_cities:\n",
    "    print(country)\n",
    "    key = country\n",
    "    for cities in country_cities[country]:\n",
    "        print(cities)"
   ]
  },
  {
   "cell_type": "code",
   "execution_count": 97,
   "metadata": {},
   "outputs": [
    {
     "name": "stdout",
     "output_type": "stream",
     "text": [
      "978-1503261969\n",
      "Classic\n",
      "978-0743273565\n",
      "Classic\n",
      "Error\n"
     ]
    }
   ],
   "source": [
    "# ICE 5\n",
    "\n",
    "library = {\n",
    "\n",
    "    \"978-1503261969\": {\n",
    "        \"title\": \"Pride and Prejudice\",\n",
    "        \"author\": \"Jane Austen\",\n",
    "        \"genre\": \"Classic\",\n",
    "        \"available\": False\n",
    "    },\n",
    "    \"978-0743273565\": {\n",
    "        \"title\": \"The Great Gatsby\",\n",
    "        \"author\": \"F. Scott Fitzgerald\",\n",
    "        \"genre\": \"Classic\",\n",
    "        \"available\": True\n",
    "    },\n",
    "    \"978-0553212419\": {\n",
    "        \"title\": \"1984\",\n",
    "        \"author\": \"George Orwell\",\n",
    "        \"genre\": \"Dystopian\",\n",
    "        \"available\": True\n",
    "    }\n",
    "}\n",
    "\n",
    "for name in library:\n",
    "    if library[name][\"genre\"] == \"Classic\":\n",
    "        print(name)\n",
    "        print(library[name][\"genre\"])\n",
    "    else:\n",
    "        print(\"Error\")"
   ]
  }
 ],
 "metadata": {
  "kernelspec": {
   "display_name": "Python 3",
   "language": "python",
   "name": "python3"
  },
  "language_info": {
   "codemirror_mode": {
    "name": "ipython",
    "version": 3
   },
   "file_extension": ".py",
   "mimetype": "text/x-python",
   "name": "python",
   "nbconvert_exporter": "python",
   "pygments_lexer": "ipython3",
   "version": "3.11.9"
  }
 },
 "nbformat": 4,
 "nbformat_minor": 2
}
