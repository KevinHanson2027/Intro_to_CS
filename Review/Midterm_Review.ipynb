{
 "cells": [
  {
   "cell_type": "markdown",
   "metadata": {},
   "source": [
    "# Midterm Review \n",
    "\n",
    "---"
   ]
  },
  {
   "cell_type": "markdown",
   "metadata": {},
   "source": [
    "### Format \n",
    "\n",
    "- Covers eveything up to chp 8 (lists)\n",
    "- MCQ, T/F, short answer\n",
    "- Close Book\n",
    "---"
   ]
  },
  {
   "cell_type": "markdown",
   "metadata": {},
   "source": [
    "## PART 1: Variables\n",
    "\n",
    "---\n",
    "\n",
    "### Definition\n",
    "In Python a variable is like a box holding a form of information (str, int, float, list, etc.). Variables are assigned by the \"=\" operator name the variable on the left and its assignment on the right\n",
    "\n",
    "---\n",
    "\n",
    "### Rules\n",
    "\n",
    "- Must start with either a letter or an \"_\" \n",
    "- Must use CamelCase or Under_line to name variables \n",
    "- Can't use other operator names \n",
    "- Variables are case senseitive\n",
    "\n",
    "### Purpose\n",
    "The goal of naming variables is to create a unique name for the data you are storing in the variables\n",
    "\n",
    "---\n",
    "\n",
    "### Multiple Assignments \n",
    "In Python you are able to assign multiples variables in one line of code like the example shown below \n",
    "\n",
    "- a,b,c = 5, 10, 15\n",
    "\n",
    "or \n",
    "\n",
    "- x = y = z = 0\n",
    "\n",
    "---"
   ]
  },
  {
   "cell_type": "code",
   "execution_count": 2,
   "metadata": {},
   "outputs": [
    {
     "name": "stdout",
     "output_type": "stream",
     "text": [
      "21\n",
      "5 14 16\n",
      "2007 2004\n"
     ]
    }
   ],
   "source": [
    "# Practice / Examples\n",
    "\n",
    "a = 10\n",
    "b = 11 \n",
    "\n",
    "print(a + b)\n",
    "\n",
    "c, d, e = 5,14,16\n",
    "\n",
    "print(c, d, e)\n",
    "\n",
    "# Switching Values \n",
    "\n",
    "kev = 2004 \n",
    "katie = 2007\n",
    "\n",
    "katie, kev = 2004, 2007 \n",
    "print(kev, katie)"
   ]
  },
  {
   "cell_type": "markdown",
   "metadata": {},
   "source": [
    "## PART 2: Data Types\n",
    "\n",
    "--- \n",
    "\n",
    "### Numeric Types of data \n",
    "\n",
    "- (int) or integers: whole numbers, pos or neg, no decimals \n",
    "- (float): numbers with decimals pos or neg\n",
    "- (complex) or imaginary: numbers with a real or immaginary part (a variable)\n",
    "\n",
    "---\n",
    "\n",
    "### Sequence Types\n",
    "\n",
    "- (str) or string: any type of text enclosed by a \" \" or a ' ' \n",
    "- (list) or list: any type of data enclosed in a [ ] (can be changed)\n",
    "- (tuple) or tuples: any type of data enclosed in a ( ) (cannot be changed)\n",
    "- (dict) or dictionary: data that is in key value pair enclosed in a { } for examples {\"name\": \"Alice\", \"age\": \"30\"}\n",
    "\n",
    "--- \n",
    "\n",
    "### Set Types\n",
    "\n",
    "- (set) or Sets: unordered collections of unique items inclosed in a ( ) (can be changed)\n",
    "- (frozenset) or Frozen Sets: unordered collections of unique items inclosed in a ( ) (cannot be changed)\n",
    "\n",
    "---\n",
    "\n",
    "### Boolean\n",
    "\n",
    "- (bool) or Boolean: represents true or false data \n",
    "\n",
    "---\n",
    "\n",
    "### Special Type\n",
    "\n",
    "- (none) or NoneType: represents an absent value or nothing in a variable\n",
    "\n",
    "---\n",
    "\n",
    "## Data f(x)\n",
    "\n",
    "---\n",
    "\n",
    "### Typecasting \n",
    "You can use typecasting to change data to a different type of data, see examples below\n",
    "\n",
    "- int()\n",
    "- str()\n",
    "- bool()\n",
    "\n",
    "---\n",
    "\n",
    "### Checking data types \n",
    "To check the type of data you can use the type() f(x) to reveal what type of data you are using\n",
    "\n",
    "---\n",
    "\n",
    "### Common Issues\n",
    "When you are dividing two int variables the restule will be a float variables solve this with int division // instead of / \n",
    " \n",
    "- 6 / 40 (N/A)\n",
    "- 6 // 40 (check)\n",
    "\n",
    "---\n",
    "\n",
    "When you're working with two different types of data that can't be joined you will get a #typeerror telling you to use typecasting to combind the varaibles\n",
    "\n",
    "- 5 + \"10\" (#typeerror)\n",
    "- 5 + int(\"10\") (15)\n",
    "\n",
    "---\n"
   ]
  },
  {
   "cell_type": "markdown",
   "metadata": {},
   "source": [
    "## PART 3: Strings \n",
    "\n",
    "---\n",
    "Quotes \n",
    "- single quotes: 'Hi world'\n",
    "- double quotes: \"Hi world\"\n",
    "- triple quotes (for multi-line strings): '''Hi world \n",
    "                                            \n",
    "                                            This is Kevin'''\n",
    "\n",
    "---"
   ]
  },
  {
   "cell_type": "code",
   "execution_count": 3,
   "metadata": {},
   "outputs": [
    {
     "name": "stdout",
     "output_type": "stream",
     "text": [
      "Hi world\n",
      "Hi world\n",
      "Hi world \n",
      "      This is Kevin\n"
     ]
    }
   ],
   "source": [
    "# Examples\n",
    "print('Hi world')\n",
    "print(\"Hi world\")\n",
    "print('''Hi world \n",
    "      This is Kevin''')"
   ]
  },
  {
   "cell_type": "markdown",
   "metadata": {},
   "source": [
    "### Indexing \n",
    "Select individual characters from strings \n",
    "\n",
    "- var = \"Hi Kevin\"\n",
    "- first char = var[0] \n",
    "- last_char = var[-1]\n",
    "\n",
    "---\n",
    "\n",
    "### String Slicing \n",
    "[start:end:step]\n",
    "\n",
    "- var[1,4] (characters 1 - 4)\n",
    "- var [:5] (characters start - 4 (1-last))\n",
    "- var [5:] (character 5 - end)\n",
    "- var [::2] (every other character)\n",
    "\n",
    "---"
   ]
  },
  {
   "cell_type": "code",
   "execution_count": 8,
   "metadata": {},
   "outputs": [
    {
     "name": "stdout",
     "output_type": "stream",
     "text": [
      "H\n",
      "!\n",
      "Hello\n",
      "World!\n",
      "!dlroW ,olleH\n",
      "Hlo ol!\n"
     ]
    }
   ],
   "source": [
    "# Examples\n",
    "var = \"Hello, World!\"\n",
    "\n",
    "print(var[0])\n",
    "print(var[-1])\n",
    "print(var[:5])\n",
    "print(var[7:])\n",
    "print(var[::-1])\n",
    "print(var[::2])"
   ]
  },
  {
   "cell_type": "markdown",
   "metadata": {},
   "source": [
    "### String Methods\n",
    "Methods to manipulate strings \n",
    "\n",
    "- text.upper(): Whole text is uppercase\n",
    "- text.lower(): Whole text is lowercase \n",
    "- text.title(): Text is changed to title formatting \n",
    "- text.capitalize(): 1st character is capitalized\n",
    "- text.strip(): Removes excess space (lstrip and rstrip removes left or right space)\n",
    "\n",
    "---\n"
   ]
  },
  {
   "cell_type": "code",
   "execution_count": 182,
   "metadata": {},
   "outputs": [
    {
     "data": {
      "text/plain": [
       "'HELLO, WORLD!  '"
      ]
     },
     "execution_count": 183,
     "metadata": {},
     "output_type": "execute_result"
    }
   ],
   "source": [
    "# Examples\n",
    "\n",
    "\"hello, world!  \".upper()\n",
    "\"hello, world!  \".lower()\n",
    "\"hello, world!  \".title()\n",
    "\"hello, world!  \".capitalize()\n",
    "\"hello, world!  \".strip()"
   ]
  },
  {
   "cell_type": "markdown",
   "metadata": {},
   "source": [
    "### String Methods (CONT)\n",
    "The .find fucntion finds the start instance of the text / char you are looking for \n",
    "\n",
    "- \"hello world\".find(\"world\")  # 6\n",
    "\n",
    "The .replace f(x) replaces old text with new text replace(old, new)\n",
    "\n",
    "- \"hello world\".replace(\"world\", \"Python\")  # 'hello Python' \n",
    "\n",
    "--- "
   ]
  },
  {
   "cell_type": "code",
   "execution_count": 30,
   "metadata": {},
   "outputs": [
    {
     "data": {
      "text/plain": [
       "'hello Python'"
      ]
     },
     "execution_count": 30,
     "metadata": {},
     "output_type": "execute_result"
    }
   ],
   "source": [
    "# Examples\n",
    "\"hello world\".find(\"world\") \n",
    "\n",
    "\"hello world\".replace(\"world\", \"Python\")  "
   ]
  },
  {
   "cell_type": "markdown",
   "metadata": {},
   "source": [
    "### Spliting & Joining \n",
    "The spliting f(x) splits a varible into a list with a unique seperator\n",
    "\n",
    "- \"one,two,three\".split(\",\")  # ['one', 'two', 'three']\n",
    "\n",
    "The joining f(x) joins a list into one string by removing a speicific seperator\n",
    "\n",
    "- \", \".join([\"apple\", \"banana\", \"cherry\"])  # 'apple, banana, cherry'\n",
    "\n",
    "---"
   ]
  },
  {
   "cell_type": "code",
   "execution_count": 32,
   "metadata": {},
   "outputs": [
    {
     "data": {
      "text/plain": [
       "'apple, banana, cherry'"
      ]
     },
     "execution_count": 32,
     "metadata": {},
     "output_type": "execute_result"
    }
   ],
   "source": [
    "# Examples\n",
    "\"one,two,three\".split(\",\")  # ['one', 'two', 'three']\n",
    "\", \".join([\"apple\", \"banana\", \"cherry\"])  # 'apple, banana, cherry'"
   ]
  },
  {
   "cell_type": "markdown",
   "metadata": {},
   "source": [
    "### String Validation\n",
    " \n",
    "- isdigit(): checks if the data is entirely digits \n",
    "- isalpha(): checks if the data is entirely letter\n",
    "- isaldigit(): checks if the data is entirely letter and digits\n",
    "\n",
    "---\n"
   ]
  },
  {
   "cell_type": "code",
   "execution_count": 33,
   "metadata": {},
   "outputs": [
    {
     "data": {
      "text/plain": [
       "True"
      ]
     },
     "execution_count": 33,
     "metadata": {},
     "output_type": "execute_result"
    }
   ],
   "source": [
    "# Examples \n",
    "\"12345\".isdigit()  # True \n",
    "\"abcde\".isalpha()  # True \n",
    "\"abc123\".isalnum()  # True"
   ]
  },
  {
   "cell_type": "markdown",
   "metadata": {},
   "source": [
    "### String Formatting\n",
    "Old style formatting using (%)\n",
    "\n",
    "- name = \"Alice\" \n",
    "- greeting = \"Hello, %s!\" % name  \n",
    "- Output: 'Hello, Alice!'\n",
    "\n",
    "str.format method\n",
    "\n",
    "- age = 30 \n",
    "- message = \"I am {} years old.\".format(age)  \n",
    "- 'I am 30 years old.'\n",
    "\n",
    "f-strings \n",
    "\n",
    "- pi = 3.1416\n",
    "- print(f\"The value of pi is approximately {pi}.\")  \n",
    "- 'The value of pi is approximately 3.1416.' \n",
    "\n",
    "---\n"
   ]
  },
  {
   "cell_type": "code",
   "execution_count": 36,
   "metadata": {},
   "outputs": [
    {
     "name": "stdout",
     "output_type": "stream",
     "text": [
      "Hello, Alice!\n",
      "I am 30 years old.\n",
      "The value of pi is approximately 3.1416.\n"
     ]
    }
   ],
   "source": [
    "# Examples \n",
    "\n",
    "name = \"Alice\" \n",
    "greeting = \"Hello, %s!\" % name  \n",
    "print(greeting)\n",
    "\n",
    "age = 30 \n",
    "message = \"I am {} years old.\".format(age)  \n",
    "print(message)\n",
    "\n",
    "pi = 3.1416\n",
    "print(f\"The value of pi is approximately {pi}.\")  "
   ]
  },
  {
   "cell_type": "markdown",
   "metadata": {},
   "source": [
    "### Escape Characters \n",
    "Used to end, close, and continue strings \n",
    "\n",
    "- \\n New line \n",
    "- \\t Tab \n",
    "- \\' Single Quote \n",
    "- \\\" Double Quote \n",
    "- \\\\ Backslash\n",
    "\n",
    "---"
   ]
  },
  {
   "cell_type": "code",
   "execution_count": 37,
   "metadata": {},
   "outputs": [
    {
     "name": "stdout",
     "output_type": "stream",
     "text": [
      "Line1\n",
      "Line2\n",
      "She said, \"Hello!\"\n"
     ]
    }
   ],
   "source": [
    "# Examples \n",
    "\n",
    "print(\"Line1\\nLine2\")  # Output: # Line1 # Line2  \n",
    "print(\"She said, \\\"Hello!\\\"\")  # Output: She said, \"Hello!\""
   ]
  },
  {
   "cell_type": "markdown",
   "metadata": {},
   "source": [
    "### String Operators \n",
    "Concatenation (join text) or +\n",
    "\n",
    "- \"text 1\" + \" \" + \"text 2\" # text 1 text 2\n",
    "\n",
    "rept (*)\n",
    "\n",
    "- \"hi\"*10 #prints 10 times\n",
    "\n",
    "Membership Operators: \n",
    "- in: Check if a substring exists. \n",
    "- \"apple\" in \"pineapple\" \n",
    "- not in: Check if a substring does not exist.\n",
    "\n",
    "---"
   ]
  },
  {
   "cell_type": "code",
   "execution_count": 44,
   "metadata": {},
   "outputs": [
    {
     "name": "stdout",
     "output_type": "stream",
     "text": [
      "Mike and Johny\n",
      "hihihihihihihihihihi\n"
     ]
    },
    {
     "data": {
      "text/plain": [
       "True"
      ]
     },
     "execution_count": 44,
     "metadata": {},
     "output_type": "execute_result"
    }
   ],
   "source": [
    "# Examples\n",
    "var1 = \"Mike\"\n",
    "var2 = \"Johny\"\n",
    "\n",
    "print(var1 + \" and \" + var2)\n",
    "\n",
    "print(\"hi\"*10)\n",
    "\n",
    "\"apple\" in \"pineapple\" "
   ]
  },
  {
   "cell_type": "markdown",
   "metadata": {},
   "source": [
    "# PART 4: Operators \n",
    "---\n",
    "\n",
    "### Math operators\n",
    "\n",
    "- (+) Addition x + y \n",
    "- (-) Subtraction x - y \n",
    "- (*) Multiplication x * y \n",
    "- / Division x / y \n",
    "- % Modulus x % y (for no remainders)\n",
    "- ** Exponentiation x ** y \n",
    "- // Floor Division  x // y (ints)\n",
    "\n",
    "---"
   ]
  },
  {
   "cell_type": "code",
   "execution_count": 46,
   "metadata": {},
   "outputs": [
    {
     "name": "stdout",
     "output_type": "stream",
     "text": [
      "19\n",
      "11\n",
      "60\n",
      "3.75\n",
      "3\n",
      "50625\n",
      "3\n"
     ]
    }
   ],
   "source": [
    "# Examples\n",
    "\n",
    "a = 15 \n",
    "b = 4\n",
    "\n",
    "print(a + b)\n",
    "print(a - b)\n",
    "print(a * b)\n",
    "print(a / b)\n",
    "print(a % b)\n",
    "print(a ** b)\n",
    "print(a // b)\n"
   ]
  },
  {
   "cell_type": "markdown",
   "metadata": {},
   "source": [
    "### Operator Shortcuts \n",
    "\n",
    "- = x = 5  \n",
    "- += x += 3 x = x + 3 \n",
    "- -= x -= 3 x = x - 3 \n",
    "- *= x *= 3 x = x * 3 \n",
    "- /= x /= 3 x = x / 3 \n",
    "- %= x %= 3 x = x % 3 \n",
    "- **= x **= 3  x = x ** 3 \n",
    "- //= x //= 3  x = x // 3\n",
    "\n",
    "--- "
   ]
  },
  {
   "cell_type": "code",
   "execution_count": 50,
   "metadata": {},
   "outputs": [
    {
     "name": "stdout",
     "output_type": "stream",
     "text": [
      "5\n",
      "10\n"
     ]
    }
   ],
   "source": [
    "# Examples\n",
    "\n",
    "x = 5\n",
    "print(x)\n",
    "\n",
    "x += 5\n",
    "print(x) # x + 5"
   ]
  },
  {
   "cell_type": "markdown",
   "metadata": {},
   "source": [
    "### Comparsion Operators\n",
    "\n",
    "- == Equal to \n",
    "- != Not equal to\n",
    "- (>) Greater than \n",
    "- < Less than \n",
    "- (>=) Greater than or equal \n",
    "- <= Less than or equal\n",
    "\n",
    "---"
   ]
  },
  {
   "cell_type": "code",
   "execution_count": 52,
   "metadata": {},
   "outputs": [
    {
     "data": {
      "text/plain": [
       "True"
      ]
     },
     "execution_count": 52,
     "metadata": {},
     "output_type": "execute_result"
    }
   ],
   "source": [
    "# Examples \n",
    "\n",
    "x = 10 \n",
    "y = 5 \n",
    "\n",
    "x > y"
   ]
  },
  {
   "cell_type": "markdown",
   "metadata": {},
   "source": [
    "### Logical Operators \n",
    "\n",
    "- and Logical AND x > 5 and x < 15 (Both need to be true)\n",
    "- or Logical OR x < 5 or x > 15 (Either can be true)\n",
    "- not Logical NOT (Sets the opposite)\n",
    "\n",
    "---"
   ]
  },
  {
   "cell_type": "code",
   "execution_count": 58,
   "metadata": {},
   "outputs": [
    {
     "name": "stdout",
     "output_type": "stream",
     "text": [
      "30\n",
      "600\n",
      "True\n",
      "False\n"
     ]
    }
   ],
   "source": [
    "# Examples \n",
    "\n",
    "a = 10\n",
    "b = 20\n",
    "\n",
    "if a > 0 and b > 0:\n",
    "    print(a + b)\n",
    "\n",
    "c = 20 \n",
    "d = 30 \n",
    "\n",
    "if a < 10 or b > 0:\n",
    "    print(c * d)\n",
    "\n",
    "var = True\n",
    "print(var)\n",
    "print(not(var))\n"
   ]
  },
  {
   "cell_type": "markdown",
   "metadata": {},
   "source": [
    "### Identity Operators\n",
    "Compare variables and the information inside them to see if they are the same or different\n",
    "\n",
    "- a = b (print(a is b)) # True \n",
    "- a != b (print(a is not b)) # False\n",
    "\n",
    "---\n",
    "\n",
    "### Membership Operators\n",
    "Used to see if their is a value of type of data in a varible or a list\n",
    "\n",
    "- x = 100 \n",
    "- 100 in x # True\n",
    "- myList = [x, y, z]\n",
    "- x in myList # true\n",
    "\n",
    "---"
   ]
  },
  {
   "cell_type": "code",
   "execution_count": 65,
   "metadata": {},
   "outputs": [
    {
     "name": "stdout",
     "output_type": "stream",
     "text": [
      "True\n",
      "True\n"
     ]
    }
   ],
   "source": [
    "# Examples \n",
    "\n",
    "a = b \n",
    "print(a is b)\n",
    "\n",
    "c = [\"Apples\", \"Grapes\", \"Bannanas\"]\n",
    "print(\"Apples\" in c)"
   ]
  },
  {
   "cell_type": "markdown",
   "metadata": {},
   "source": [
    "### Precedence\n",
    "1. Parentheses () \n",
    "2. Exponentiation ** \n",
    "3. Unary plus and minus +x, -x \n",
    "4. Multiplication *, Division /, Floor Division //, Modulus % \n",
    "5. Addition +, Subtraction - \n",
    "6. Bitwise Shift <<, >> \n",
    "7. Bitwise AND & \n",
    "8. Bitwise XOR ^ \n",
    "9. Bitwise OR | \n",
    "10. Comparison Operators ==, !=, >, <, >=, <= \n",
    "11. Assignment Operators =, +=, -=, etc.\n",
    "\n",
    "---"
   ]
  },
  {
   "cell_type": "markdown",
   "metadata": {},
   "source": [
    "# PART 5: Control Statements \n",
    "\n",
    "---"
   ]
  },
  {
   "cell_type": "markdown",
   "metadata": {},
   "source": [
    "### if statements\n",
    "Statements execture if the condition is true\n",
    "\n",
    "- if a > b:\n",
    "    print(a + b)\n",
    "\n",
    "### if else statements \n",
    "If statements aren't true the else (false statement) will excctute \n",
    "\n",
    "- if a > b:\n",
    "    print(a + b)\n",
    "  else: \n",
    "    print(\"Error\")\n",
    "\n",
    "---"
   ]
  },
  {
   "cell_type": "code",
   "execution_count": 70,
   "metadata": {},
   "outputs": [
    {
     "name": "stdout",
     "output_type": "stream",
     "text": [
      "110\n",
      "1010\n"
     ]
    }
   ],
   "source": [
    "# Examples\n",
    "\n",
    "a = 10 \n",
    "b = 100\n",
    "\n",
    "if b > a:\n",
    "    print(a + b)\n",
    "\n",
    "c = 10 \n",
    "d = 1000\n",
    "\n",
    "if c > d:\n",
    "    print(c)\n",
    "else: \n",
    "    print(c + d)"
   ]
  },
  {
   "cell_type": "markdown",
   "metadata": {},
   "source": [
    "### elifs \n",
    "if the if statement is the first question being true and the else statement is the question being false the elif statement is another true option that acts like and and and or comparable \n",
    "\n",
    "- for example if the first if statement is true but the elif statement is false the if statement will execute\n",
    "- however, if the if statement is false but the elif is true then the elif will execute\n",
    "\n",
    "---"
   ]
  },
  {
   "cell_type": "code",
   "execution_count": 73,
   "metadata": {},
   "outputs": [
    {
     "name": "stdout",
     "output_type": "stream",
     "text": [
      "Today is Monday\n",
      "It is 2pm\n",
      "Nvm\n"
     ]
    }
   ],
   "source": [
    "day = \"1\"\n",
    "time = \"2pm\"\n",
    "\n",
    "if day == \"1\":\n",
    "    print(\"Today is Monday\")\n",
    "elif time == \"2pm\":\n",
    "    print(\"It is 2pm\")\n",
    "else: \n",
    "    print(\"Nvm\")\n",
    "\n",
    "if day == \"2\":\n",
    "    print(\"Today is Monday\")\n",
    "elif time == \"2pm\":\n",
    "    print(\"It is 2pm\")\n",
    "else: \n",
    "    print(\"Nvm\")\n",
    "\n",
    "if day == \"2\":\n",
    "    print(\"Today is Monday\")\n",
    "elif time == \"3pm\":\n",
    "    print(\"It is 2pm\")\n",
    "else: \n",
    "    print(\"Nvm\")"
   ]
  },
  {
   "cell_type": "markdown",
   "metadata": {},
   "source": [
    "# PART 6: Iterations\n",
    "\n",
    "---\n",
    "\n",
    "### For-Loops\n",
    "used to iterate over a list\n",
    "\n",
    "- for variable in sequence\n",
    "\n",
    "---"
   ]
  },
  {
   "cell_type": "code",
   "execution_count": 77,
   "metadata": {},
   "outputs": [
    {
     "name": "stdout",
     "output_type": "stream",
     "text": [
      "0\n",
      "1\n",
      "2\n",
      "3\n",
      "4\n",
      "5\n"
     ]
    }
   ],
   "source": [
    "# Examples \n",
    "\n",
    "for x in range(6):\n",
    "    print(x)\n"
   ]
  },
  {
   "cell_type": "markdown",
   "metadata": {},
   "source": [
    "### Iterating a list\n",
    "Used to print elements of a list (DB)\n",
    "\n",
    "- for varible name in list\n",
    "- use a variable for \n",
    "\n",
    "---"
   ]
  },
  {
   "cell_type": "code",
   "execution_count": 88,
   "metadata": {},
   "outputs": [
    {
     "name": "stdout",
     "output_type": "stream",
     "text": [
      "Apple\n",
      "Grape\n",
      "Carrot\n"
     ]
    }
   ],
   "source": [
    "# Examples \n",
    "\n",
    "fruits = [\"Apple\", \"Grape\", \"Carrot\"]\n",
    "for fruit in fruits:\n",
    "    print(fruit)"
   ]
  },
  {
   "cell_type": "markdown",
   "metadata": {},
   "source": [
    "### Using Range with a start and an end\n",
    "You can use a range for numbers rather then something from 0 - 10 \n",
    "\n",
    "- for i in range(start, end, step)\n",
    "\n",
    "---"
   ]
  },
  {
   "cell_type": "code",
   "execution_count": 92,
   "metadata": {},
   "outputs": [
    {
     "name": "stdout",
     "output_type": "stream",
     "text": [
      "1\n",
      "2\n",
      "3\n",
      "4\n",
      "5\n",
      "\n",
      "0\n",
      "2\n",
      "4\n",
      "6\n",
      "8\n"
     ]
    }
   ],
   "source": [
    "# Examples \n",
    "\n",
    "for i in range(1, 6): # Goes up to 5 \n",
    "    print(i)\n",
    "\n",
    "print()\n",
    "\n",
    "for i in range(0, 10, 2):\n",
    "    print(i)"
   ]
  },
  {
   "cell_type": "markdown",
   "metadata": {},
   "source": [
    "### While loops\n",
    "Basically a for loop with logic that only continues if a condition is true\n",
    "\n",
    "- while condition:\n",
    "- must set an empty list or vairble to fill for logic\n",
    "- read code from top to bottom and apply all the logic\n",
    "\n",
    "---"
   ]
  },
  {
   "cell_type": "code",
   "execution_count": 96,
   "metadata": {},
   "outputs": [
    {
     "name": "stdout",
     "output_type": "stream",
     "text": [
      "1\n",
      "2\n",
      "3\n",
      "4\n",
      "5\n",
      "6\n",
      "7\n",
      "8\n",
      "9\n",
      "10\n"
     ]
    }
   ],
   "source": [
    "# Examples \n",
    "\n",
    "x = 0\n",
    "\n",
    "while x < 10:\n",
    "    x += 1\n",
    "    print(x)"
   ]
  },
  {
   "cell_type": "markdown",
   "metadata": {},
   "source": [
    "### Loop Control Statements \n",
    "The control statements add aditional logic to the loop\n",
    "\n",
    "### Break \n",
    "\n",
    "- if the break statement is true the loop ends \n",
    "\n",
    "### Continue: \n",
    "\n",
    "- if the statment is true the loop continues and stop if it isnt\n",
    "\n",
    "### Pass:\n",
    "\n",
    "- acts a placeholder for text, doesn't impact the code\n",
    "\n",
    "---"
   ]
  },
  {
   "cell_type": "code",
   "execution_count": 107,
   "metadata": {},
   "outputs": [
    {
     "name": "stdout",
     "output_type": "stream",
     "text": [
      "0\n",
      "1\n",
      "2\n",
      "3\n",
      "4\n",
      "\n",
      "0\n",
      "1\n",
      "2\n",
      "3\n",
      "4\n",
      "6\n",
      "7\n",
      "8\n",
      "9\n",
      "\n",
      "0\n",
      "1\n",
      "2\n",
      "3\n",
      "4\n",
      "5\n",
      "6\n",
      "7\n",
      "8\n",
      "9\n"
     ]
    }
   ],
   "source": [
    "# Examples \n",
    "\n",
    "for i in range(10):\n",
    "    if i == 5:\n",
    "        break \n",
    "    print(i)\n",
    "else:\n",
    "    i += 1\n",
    "\n",
    "print()\n",
    "\n",
    "for i in range(10):\n",
    "    if i == 5:\n",
    "        continue\n",
    "    print(i)\n",
    "else:\n",
    "    i += 1\n",
    "\n",
    "print()\n",
    "\n",
    "for i in range(10):\n",
    "    if i == 5:\n",
    "        pass\n",
    "    print(i)\n",
    "else:\n",
    "    i += 1"
   ]
  },
  {
   "cell_type": "markdown",
   "metadata": {},
   "source": [
    "### Nested Loops\n",
    "Loops inside Loops \n",
    "\n",
    "- for i in range(3):     \n",
    "    for j in range(2):         \n",
    "        print(f\"i={i}, j={j}\")\n",
    "- Completes nested range then loops back \n",
    "\n",
    "---"
   ]
  },
  {
   "cell_type": "code",
   "execution_count": 110,
   "metadata": {},
   "outputs": [
    {
     "name": "stdout",
     "output_type": "stream",
     "text": [
      "i=0, j=0\n",
      "i=0, j=1\n",
      "i=1, j=0\n",
      "i=1, j=1\n",
      "i=2, j=0\n",
      "i=2, j=1\n"
     ]
    }
   ],
   "source": [
    "# Examples \n",
    "\n",
    "for i in range(3):  \n",
    "    for j in range(2):         \n",
    "        print(f\"i={i}, j={j}\")"
   ]
  },
  {
   "cell_type": "markdown",
   "metadata": {},
   "source": [
    "### Iterating over Dictionaries\n",
    "Use the keys an indexing to find information \n",
    "\n",
    "- key is the normal information \n",
    "- var[indexing]\n",
    "\n",
    "---"
   ]
  },
  {
   "cell_type": "code",
   "execution_count": 114,
   "metadata": {},
   "outputs": [
    {
     "name": "stdout",
     "output_type": "stream",
     "text": [
      "name: Alice\n",
      "age: 30\n"
     ]
    }
   ],
   "source": [
    "# Examples \n",
    "person = {\"name\": \"Alice\", \"age\": 30} \n",
    "for key in person:     \n",
    "    print(f\"{key}: {person[key]}\") "
   ]
  },
  {
   "cell_type": "markdown",
   "metadata": {},
   "source": [
    "### Else clause in loops \n",
    "Prints when the loop is finished instead of ending it like the break f(x)\n",
    "\n",
    "- for i in range(5):     \n",
    "    print(i) \n",
    "    else:     \n",
    "        print(\"Loop completed.\")\n",
    "\n",
    "---"
   ]
  },
  {
   "cell_type": "code",
   "execution_count": 115,
   "metadata": {},
   "outputs": [
    {
     "name": "stdout",
     "output_type": "stream",
     "text": [
      "0\n",
      "1\n",
      "2\n",
      "3\n",
      "4\n",
      "Loop completed.\n"
     ]
    }
   ],
   "source": [
    "# Examples \n",
    "\n",
    "for i in range(5):\n",
    "    print(i)\n",
    "else:\n",
    "    print(\"Loop completed.\")"
   ]
  },
  {
   "cell_type": "markdown",
   "metadata": {},
   "source": [
    "# PART 7: Lists\n",
    "\n",
    "---"
   ]
  },
  {
   "cell_type": "markdown",
   "metadata": {},
   "source": [
    "### Types of lists \n",
    "Theirs 3 types of lists: \n",
    "\n",
    "- empty list: []\n",
    "- numeric: [1, 2, 3]\n",
    "- mixed: [1 , \"two\", 3]\n",
    "\n",
    "---"
   ]
  },
  {
   "cell_type": "markdown",
   "metadata": {},
   "source": [
    "### Pulling List Items\n",
    "\n",
    "---\n",
    "\n",
    "### Indexing\n",
    "You can use indexing to pull speicfic pieces of data from a list which is similiar to str slicing\n",
    "\n",
    "- first_number = number[0]\n",
    "- 2nd = number[1]\n",
    "\n",
    "### Slicing\n",
    "You can use slicing to pull multiples peice of data in a range\n",
    "\n",
    "- numbers 1 - 4 = number[1:5]\n",
    "- remember the x - 1 rule for the range \n",
    "\n",
    "---"
   ]
  },
  {
   "cell_type": "code",
   "execution_count": 118,
   "metadata": {},
   "outputs": [
    {
     "name": "stdout",
     "output_type": "stream",
     "text": [
      "1\n",
      "[2, 3, 4]\n",
      "[2, 4]\n"
     ]
    }
   ],
   "source": [
    "# Examples\n",
    "\n",
    "numbers = [1, 2, 3, 4, 5]\n",
    "\n",
    "print(numbers[0])\n",
    "print(numbers[1:4])\n",
    "print(numbers[1::2])"
   ]
  },
  {
   "cell_type": "markdown",
   "metadata": {},
   "source": [
    "### Modifying Lists \n",
    "\n",
    "---\n",
    "\n",
    "### Adding data \n",
    "\n",
    "- data.append: add data to the end of the list\n",
    "- data.insert(1, 100): add data at a specific position\n",
    "- data.extend([OtherList]): add a different list to an exisiting list\n",
    "- adds in order\n",
    "\n",
    "--- "
   ]
  },
  {
   "cell_type": "code",
   "execution_count": 119,
   "metadata": {},
   "outputs": [
    {
     "name": "stdout",
     "output_type": "stream",
     "text": [
      "[0, 1, 2, 3, 100, 101, 102, 100]\n"
     ]
    }
   ],
   "source": [
    "# Examples\n",
    "\n",
    "data = [1, 2, 3]\n",
    "\n",
    "data.append(100)\n",
    "data.insert(0, 0)\n",
    "data.extend([100, 101, 102])\n",
    "\n",
    "print(data)"
   ]
  },
  {
   "cell_type": "markdown",
   "metadata": {},
   "source": [
    "### Modifying Lists CONT\n",
    "\n",
    "---\n",
    "\n",
    "### Removing data\n",
    "Remove data from a list\n",
    "\n",
    "- data.remove(): removes the first instance of what you are looking for left to right \n",
    "- data.pop(): Removes the index you refer to in the list\n",
    "- data.clear(): clears the whole list\n",
    "- data[index] = desired value: replace the index you are referring too\n",
    "\n",
    "---"
   ]
  },
  {
   "cell_type": "code",
   "execution_count": 126,
   "metadata": {},
   "outputs": [
    {
     "name": "stdout",
     "output_type": "stream",
     "text": [
      "[2, 3, 4, 5]\n",
      "[4, 3, 4, 5]\n"
     ]
    }
   ],
   "source": [
    "# Examples \n",
    "\n",
    "data = [1, 2, 3, 4, 5, 5]\n",
    "\n",
    "data.remove(5)\n",
    "data.pop(0)\n",
    "\n",
    "print(data)\n",
    "\n",
    "data[0] = 4\n",
    "\n",
    "print(data)"
   ]
  },
  {
   "cell_type": "markdown",
   "metadata": {},
   "source": [
    "### List Methods\n",
    "\n",
    "- data.count(): returns how many times something occurs \n",
    "- data.index(): returns the index value of the first occurence \n",
    "\n",
    "---\n",
    "\n",
    "### Sorting & Reversing\n",
    "\n",
    "- data.sort(): returns the data in asc order\n",
    "- data.reverse(): reverses the order of the data \n",
    "\n",
    "---"
   ]
  },
  {
   "cell_type": "code",
   "execution_count": 188,
   "metadata": {},
   "outputs": [
    {
     "name": "stdout",
     "output_type": "stream",
     "text": [
      "1\n",
      "4\n",
      "[1, 2, 3, 4, 5, 10, 15]\n",
      "[15, 10, 5, 4, 3, 2, 1]\n"
     ]
    }
   ],
   "source": [
    "# Examples \n",
    "\n",
    "data = [1, 2, 3, 4, 5, 10, 15]\n",
    "\n",
    "print(data.count(2))\n",
    "print(data.index(5))\n",
    "\n",
    "data.sort()\n",
    "print(data)\n",
    "\n",
    "data.reverse()\n",
    "print(data)\n"
   ]
  },
  {
   "cell_type": "markdown",
   "metadata": {},
   "source": [
    "### List Comprehension\n",
    "Compact ways to create lists \n",
    "\n",
    "- squares = [x ** 2 for x in range(10)] \n",
    "- even_numbers = [x for x in range(20) if x % 2 == 0]\n",
    "\n",
    "### Nested Lists\n",
    "Lists within Lists\n",
    "\n",
    "- matrix = [[1, 2, 3],[4, 5, 6],[7, 8, 9]]\n",
    "- To access nested list items element = matrix[1][2]  # 6\n",
    "- the first number is the index of the list \n",
    "- the second numbr is the index of the selected list\n",
    "\n",
    "---"
   ]
  },
  {
   "cell_type": "code",
   "execution_count": 141,
   "metadata": {},
   "outputs": [
    {
     "name": "stdout",
     "output_type": "stream",
     "text": [
      "[0, 1, 4, 9, 16, 25, 36, 49, 64, 81]\n",
      "[0, 2, 4, 6, 8, 10, 12, 14, 16, 18]\n",
      "6\n"
     ]
    }
   ],
   "source": [
    "# Examples \n",
    "squares = [x ** 2 for x in range(10)] \n",
    "even_numbers = [x for x in range(20) if x % 2 == 0]\n",
    "\n",
    "print(squares)\n",
    "print(even_numbers)\n",
    "\n",
    "matrix = [[1, 2, 3], [4, 5, 6], [7, 8, 9]]\n",
    "print(matrix[1][2])"
   ]
  },
  {
   "cell_type": "markdown",
   "metadata": {},
   "source": [
    "### Copying Lists\n",
    "Directly copy a whole list \n",
    "\n",
    "- New_list = Old_list[:]\n",
    "- New_list = list(Old_list)\n",
    "- New_list = Old_list.copy\n",
    "\n",
    "---\n"
   ]
  },
  {
   "cell_type": "code",
   "execution_count": 189,
   "metadata": {},
   "outputs": [
    {
     "name": "stdout",
     "output_type": "stream",
     "text": [
      "[1, 2, 3, 4, 5]\n"
     ]
    }
   ],
   "source": [
    "# Examples \n",
    "\n",
    "Old_list = [1, 2, 3, 4, 5]\n",
    "\n",
    "New_list = Old_list[:]\n",
    "New_list = list(Old_list)\n",
    "New_list = Old_list.copy()\n",
    "\n",
    "print(New_list)"
   ]
  },
  {
   "cell_type": "markdown",
   "metadata": {},
   "source": [
    "# End of Review Notes\n",
    "\n",
    "---"
   ]
  },
  {
   "cell_type": "code",
   "execution_count": 180,
   "metadata": {},
   "outputs": [
    {
     "name": "stdout",
     "output_type": "stream",
     "text": [
      "150\n",
      "Science\n",
      "nosnaH niveK\n",
      "78.53981633974483\n",
      "Your number is odd\n",
      "2 is not a leap year.\n",
      "Better Luck next time, you got an F\n",
      "0 1 2 x 1 = 2\n",
      "2 x 2 = 4\n",
      "2 x 3 = 6\n",
      "2 x 4 = 8\n",
      "2 x 5 = 10\n",
      "2 x 6 = 12\n",
      "2 x 7 = 14\n",
      "2 x 8 = 16\n",
      "2 x 9 = 18\n",
      "2 x 10 = 20\n",
      "[2, 4, 6]\n",
      "[0, 1, 2, 5, 20, 100]\n",
      "This is the Smallest Value 0\n",
      "This is the Largest Value 100\n"
     ]
    }
   ],
   "source": [
    "# Practice 1: Variables & Data types \n",
    "days_in_week = 7 \n",
    "pi_value = 3.14159 \n",
    "is_sky_blue = True \n",
    "full_name = \"Kevin\"\n",
    "\n",
    "# Practice 2 \n",
    "\n",
    "string = \"100\" \n",
    "print(int(string) + 50)\n",
    "\n",
    "# Practice 3: Strings \n",
    "string = \"Data Science\"\n",
    "print(string[5:])\n",
    "\n",
    "# Practice 4 \n",
    "first_name = input(\"Please enter your first name:\")\n",
    "last_name = input(\"Please enter your last name:\")\n",
    "full_name2 = (first_name + \" \" + last_name)\n",
    "print(full_name2[::-1])\n",
    "\n",
    "# Practice 5: Operators \n",
    "radius = input(\"Enter a radius:\")\n",
    "\n",
    "import math as m \n",
    "\n",
    "area = (m.pi) * (int(radius) ** 2)\n",
    "print(area)\n",
    "\n",
    "# Practice 6 \n",
    "user_input = input(\"Enter a number:\")\n",
    "if int(user_input) % 2 == 0:\n",
    "    print(\"Your number is even\")\n",
    "else:\n",
    "    print(\"Your number is odd\")\n",
    "\n",
    "# Practice 7: Control Statements \n",
    "year = int(input(\"Enter a year: \")) \n",
    "if (year % 4 == 0 and year % 100 != 0) or (year % 400 == 0):     \n",
    "    print(f\"{year} is a leap year.\") \n",
    "else:     \n",
    "    print(f\"{year} is not a leap year.\")\n",
    "\n",
    "# Practice 8\n",
    "\n",
    "score = int(input(\"What was your score:\"))\n",
    "if score >= 90:\n",
    "    print(\"You got an A\")\n",
    "elif score < 90 and score >= 80:\n",
    "    print(\"You got a B\")\n",
    "elif score < 80 and score >= 65:\n",
    "    print(\"You got a C\") \n",
    "else:\n",
    "    print(\"Better Luck next time, you got an F\")\n",
    "\n",
    "# Practice 9: Iterations (While Loop)\n",
    "\n",
    "n_terms = int(input(\"How many terms? \")) \n",
    "n1, n2 = 0, 1 \n",
    "count = 0 \n",
    "\n",
    "while count < n_terms:     \n",
    "    print(n1, end=' ')     \n",
    "    nth = n1 + n2     \n",
    "    n1 = n2     \n",
    "    n2 = nth     \n",
    "    count += 1\n",
    "\n",
    "# Practice 10: For loop\n",
    "num = int(input(\"Enter a number: \")) \n",
    "for i in range(1, 11):     \n",
    "    print(f\"{num} x {i} = {num * i}\")\n",
    "\n",
    "# Practice 11: Lists\n",
    "old_list = [1, 2, 3, 4, 5, 6]\n",
    "new_list = []\n",
    "\n",
    "for i in old_list:\n",
    "    if i % 2 == 0:\n",
    "        new_list.append(i)\n",
    "print(new_list)\n",
    "\n",
    "# Practice 12 \n",
    "\n",
    "My_List = [1, 20, 100, 2, 5, 0]\n",
    "\n",
    "My_List.sort()\n",
    "print(My_List)\n",
    "\n",
    "print(f\"This is the Smallest Value {My_List[0]}\")\n",
    "print(f\"This is the Largest Value {My_List[-1]}\")"
   ]
  },
  {
   "cell_type": "code",
   "execution_count": 213,
   "metadata": {},
   "outputs": [
    {
     "name": "stdout",
     "output_type": "stream",
     "text": [
      "10\n",
      "9\n",
      "8\n",
      "7\n",
      "6\n",
      "5\n",
      "4\n",
      "3\n",
      "2\n",
      "1\n",
      "\n",
      "0\n",
      "1\n",
      "2\n",
      "3\n",
      "4\n",
      "5\n",
      "6\n",
      "7\n",
      "8\n",
      "9\n",
      "5\n",
      "4\n",
      "3\n",
      "2\n",
      "1\n",
      "\n"
     ]
    }
   ],
   "source": [
    "# Practice \n",
    "\n",
    "number = 10\n",
    "\n",
    "while number > 0:\n",
    "    print(number)\n",
    "    number = number - 1\n",
    "\n",
    "print()\n",
    "\n",
    "for i in range(10):\n",
    "    print(i)\n",
    "\n",
    "###\n",
    "\n",
    "timer = int(input(\"Insert a time:\"))\n",
    "\n",
    "while int(timer) > 0:\n",
    "    print(timer)\n",
    "    timer -= 1"
   ]
  },
  {
   "cell_type": "code",
   "execution_count": 220,
   "metadata": {},
   "outputs": [
    {
     "name": "stdout",
     "output_type": "stream",
     "text": [
      "1\n",
      "2\n",
      "3\n",
      "4\n",
      "5\n",
      "6\n",
      "7\n",
      "8\n",
      "9\n",
      "10\n"
     ]
    }
   ],
   "source": [
    "# More Practice\n",
    "\n",
    "number = 1\n",
    "\n",
    "while number <= 10:\n",
    "  print(number)\n",
    "  number += 1"
   ]
  },
  {
   "cell_type": "code",
   "execution_count": 225,
   "metadata": {},
   "outputs": [
    {
     "name": "stdout",
     "output_type": "stream",
     "text": [
      "['Kevin', 'Hanson']\n",
      "[['Kevin', 'Hanson']]\n"
     ]
    }
   ],
   "source": [
    "num = \"Kevin Hanson\"\n",
    "print(num.split())\n",
    "\n",
    "data = []\n",
    "\n",
    "data.append(num.split())\n",
    "print(data)"
   ]
  },
  {
   "cell_type": "code",
   "execution_count": 230,
   "metadata": {},
   "outputs": [
    {
     "name": "stdout",
     "output_type": "stream",
     "text": [
      "1\n",
      "2\n",
      "3\n",
      "4\n",
      "5\n",
      "6\n",
      "7\n",
      "8\n",
      "9\n",
      "10\n"
     ]
    }
   ],
   "source": [
    "i = 0\n",
    "\n",
    "while i < 10:\n",
    "    i += 1\n",
    "    print(i)"
   ]
  }
 ],
 "metadata": {
  "kernelspec": {
   "display_name": "Python 3",
   "language": "python",
   "name": "python3"
  },
  "language_info": {
   "codemirror_mode": {
    "name": "ipython",
    "version": 3
   },
   "file_extension": ".py",
   "mimetype": "text/x-python",
   "name": "python",
   "nbconvert_exporter": "python",
   "pygments_lexer": "ipython3",
   "version": "3.11.9"
  }
 },
 "nbformat": 4,
 "nbformat_minor": 2
}
