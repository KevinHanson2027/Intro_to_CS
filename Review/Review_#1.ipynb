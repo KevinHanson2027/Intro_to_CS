{
 "cells": [
  {
   "cell_type": "markdown",
   "metadata": {},
   "source": [
    "# Quiz 1 Review"
   ]
  },
  {
   "cell_type": "markdown",
   "metadata": {},
   "source": [
    "### Introduction: Markdown\n",
    "Markdown Mode is used for writing text instead of code in Python similair to Notion & HTML Syntax\n",
    "***"
   ]
  },
  {
   "cell_type": "markdown",
   "metadata": {},
   "source": [
    "### Adding Headers\n",
    "Use the number sign **(#)** followed by a blank space for notebook titles and section headings:\n",
    "- # for titles\n",
    "- ## for major headings\n",
    "- ### for subheadings\n",
    "- #### for 4th level subheadings\n",
    "\n",
    "If you want to make text stand out sorround it with two (*) or (_) for example:\n",
    "- (**Word**) or (__Word__)\n",
    "***"
   ]
  },
  {
   "cell_type": "markdown",
   "metadata": {},
   "source": [
    "### Mathematical Symbols\n",
    "**Surround** mathematical symbols/eqautions with a dollar sign ($), for example:\n",
    "\n",
    "- $ z^2 = x^2 + y^2 $\n",
    "***"
   ]
  },
  {
   "cell_type": "markdown",
   "metadata": {},
   "source": [
    "### Other Text Features \n",
    "Monospace font: **Soround** The text with (`), (top left of the keyboard) for example: \n",
    "- `This is monospace`\n",
    "Indenting: Start the text with a (>) sign, for example:\n",
    "> This is an indent\n",
    "***"
   ]
  },
  {
   "cell_type": "markdown",
   "metadata": {},
   "source": [
    "### Bullets\n",
    "To create a bulleted list add a (-) before your text, for example:\n",
    "- Bullet\n",
    "- Bullet\n",
    "- Bullet\n",
    "\n",
    "To create a sub list add an indent after your first (-), for example: \n",
    "- Bullet\n",
    "    - Bullet\n",
    "\n",
    "To create a numbered list add a 1. before your text (**Keep adding 1. the list will populate automatically**) for example: \n",
    "1. Mike\n",
    "1. John\n",
    "1. Kev\n",
    "\n",
    "To add aditional sub-steps is the same as bullets\n",
    "***"
   ]
  },
  {
   "cell_type": "markdown",
   "metadata": {},
   "source": [
    "# CHP 1: Introduction"
   ]
  },
  {
   "cell_type": "markdown",
   "metadata": {},
   "source": [
    "### What is Programming? \n",
    "#### The act of designing and implementing computer program\n",
    "- **Programs** are used by computers to complete tasks\n",
    "- We write programs that can be **understood** and **Translated** by computers\n",
    "---"
   ]
  },
  {
   "cell_type": "markdown",
   "metadata": {},
   "source": [
    "### What does a Computer actually do?\n",
    "- Stores data for numbers, words, and pictures\n",
    "- Interacts with internal (software) and external (printers) devices \n",
    "- Executes programs \n",
    "---"
   ]
  },
  {
   "cell_type": "markdown",
   "metadata": {},
   "source": [
    "### (CONT.)\n",
    "-  A program tells a computer the **sequence of steps** that are needed to fulfill a task\n",
    "\n",
    "- Hardware\n",
    "    - The physical computer and peripheral devices\n",
    "- Software\n",
    "    - The programs the computer executes\n",
    "    - Comands that tell a computer the actions, tasks, and desicions to make \n",
    "---"
   ]
  },
  {
   "cell_type": "markdown",
   "metadata": {},
   "source": [
    "### Programming Languages\n",
    "The three types of programming languages are: \n",
    "- Machine Languages: Computers can directly understand their own code (binary/numbers) (Lov-Level)\n",
    "- Assembly Languages: Translator programs called **assemblers** were developed to convert assembly-language programs to machine language. (Abreviations) (Low-Level)\n",
    "- High-Level Languages: Speed up multiples lines of code into one command, translator programs called **compilers** convert high-level language into machine language. (Functions/Equations) (High-Level)\n",
    "\n",
    "Some are directly **understood** by computers while others need **translation**\n",
    "\n",
    "---"
   ]
  },
  {
   "cell_type": "markdown",
   "metadata": {},
   "source": [
    "### Language Categories\n",
    "The three categories include:\n",
    "1. Scripting Launguages: Tells the computer what to do and sets instructions for another program (Python, PHP, JS)\n",
    "1. Other Languages: Tells the computer to complete different tasks, translates to machine language (C++,Java, C, C#)\n",
    "1. Markup Languages: Structure and orders data for presentation (HTML, CSS, ExpressJS)\n",
    "\n",
    "---"
   ]
  },
  {
   "cell_type": "markdown",
   "metadata": {},
   "source": [
    "### Scripting vs. Programming LANG\n",
    "**Scripting**\n",
    "- Interpreted\n",
    "- Slower run-time (less code)\n",
    "- Creates app as a part of a stack\n",
    "\n",
    "**Programming**\n",
    "- Compiled\n",
    "- Faster run-time (more code)\n",
    "- Standalone apps \n",
    "\n",
    "---"
   ]
  },
  {
   "cell_type": "markdown",
   "metadata": {},
   "source": [
    "### What is Python?\n",
    "Step 1: \n",
    "- Coder opens a text editor or IDE to begin writing code in a .py file\n",
    "\n",
    "Step 2: \n",
    "- The .py file is interpreted into bytecode\n",
    "\n",
    "Step 3:\n",
    "- The bytecode is translated by the Python virtual machine\n",
    "\n",
    "Purpose / Uses\n",
    "- Web & Software development\n",
    "- Machine Learning, AI, & Data Science\n",
    "- Game Development\n",
    "- GUIs\n",
    "\n",
    "---"
   ]
  },
  {
   "cell_type": "markdown",
   "metadata": {},
   "source": [
    "### Programming terms \n",
    "- Variables\n",
    "- Constants \n",
    "- Inputs / Outputs\n",
    "- Loops \n",
    "- Conditional Statements \n",
    "- Functions / Methods\n",
    "- Debugging \n",
    "\n",
    "---"
   ]
  },
  {
   "cell_type": "markdown",
   "metadata": {},
   "source": [
    "### Basic Functions\n",
    "Comments are ignored by the Python when you are running your code below are two examples of comments:"
   ]
  },
  {
   "cell_type": "code",
   "execution_count": null,
   "metadata": {},
   "outputs": [],
   "source": [
    "# Print(\"Basic Inline Comment)\n",
    "\n",
    "\"\"\"\n",
    "Block Comment\n",
    "\"\"\""
   ]
  },
  {
   "cell_type": "markdown",
   "metadata": {},
   "source": [
    "# CHP 2 Variables & Data Types"
   ]
  },
  {
   "cell_type": "markdown",
   "metadata": {},
   "source": [
    "### The Print F(x)\n",
    "The print function is used to print various types of data for presentation below is the simplest way to print text or \"Strings\" in Python\n",
    "\n",
    "To print multiple peice of data together include a comma in between\n",
    "---"
   ]
  },
  {
   "cell_type": "code",
   "execution_count": 1,
   "metadata": {},
   "outputs": [
    {
     "name": "stdout",
     "output_type": "stream",
     "text": [
      "This is a String\n"
     ]
    }
   ],
   "source": [
    "print(\"This is a String\")"
   ]
  },
  {
   "cell_type": "code",
   "execution_count": 2,
   "metadata": {},
   "outputs": [
    {
     "name": "stdout",
     "output_type": "stream",
     "text": [
      "This number is 42\n"
     ]
    }
   ],
   "source": [
    "print(\"This number is\", 42)"
   ]
  },
  {
   "cell_type": "markdown",
   "metadata": {},
   "source": [
    "### f-strings\n",
    "F strings can also be used with the print f(x) when you are dealing with multiple variables like the example below\n",
    "\n",
    "---"
   ]
  },
  {
   "cell_type": "code",
   "execution_count": 4,
   "metadata": {},
   "outputs": [
    {
     "name": "stdout",
     "output_type": "stream",
     "text": [
      "Hi my name is Kevin, I am 19\n"
     ]
    }
   ],
   "source": [
    "name = \"Kevin\"\n",
    "age = 19\n",
    "\n",
    "print(f\"Hi my name is {name}, I am {age}\")"
   ]
  },
  {
   "cell_type": "markdown",
   "metadata": {},
   "source": [
    "### The Seperator\n",
    "If you have a common seperator between text or data you can replace the seperator with a designated character like the example below\n",
    "\n",
    "---"
   ]
  },
  {
   "cell_type": "code",
   "execution_count": 5,
   "metadata": {},
   "outputs": [
    {
     "name": "stdout",
     "output_type": "stream",
     "text": [
      "Apple!Orange!Grape\n"
     ]
    }
   ],
   "source": [
    "print(\"Apple\", \"Orange\", \"Grape\", sep=\"!\")"
   ]
  },
  {
   "cell_type": "markdown",
   "metadata": {},
   "source": [
    "### The END Command\n",
    "If you want to end a print statement with a specific character you can with the end f(x) as shown below\n",
    "\n",
    "---"
   ]
  },
  {
   "cell_type": "code",
   "execution_count": 8,
   "metadata": {},
   "outputs": [
    {
     "name": "stdout",
     "output_type": "stream",
     "text": [
      "Hello, World!\n"
     ]
    }
   ],
   "source": [
    "print(\"Hello\", end=\", \")\n",
    "print(\"World!\")"
   ]
  },
  {
   "cell_type": "markdown",
   "metadata": {},
   "source": [
    "### Fromatted Strings \n",
    "If you want to format a print statement in a specific way you can use the .format f(x) as shown below\n",
    "\n",
    "---"
   ]
  },
  {
   "cell_type": "code",
   "execution_count": 11,
   "metadata": {},
   "outputs": [
    {
     "name": "stdout",
     "output_type": "stream",
     "text": [
      "I am learning Python, version 3\n"
     ]
    }
   ],
   "source": [
    "language = \"Python\"\n",
    "version = 3\n",
    "\n",
    "print(\"I am learning {}, version {}\" .format(language, version))\n",
    "#The {} are the variables similiar to an f-string"
   ]
  },
  {
   "cell_type": "markdown",
   "metadata": {},
   "source": [
    "### Variables\n",
    "Variables are \"Boxes\" of information that ae stored in a database with important information about the box and its contents\n",
    "Types of variables\n",
    "- Text (\"Hello\") = String (str)\n",
    "- Integers (1, 10, -10) = Interger (int)\n",
    "- Decimals (8.9, 25.1, 40.8) = Float (flt)\n",
    "\n",
    "Use the tpye() f(x) to find out what variables are\n",
    "\n",
    "---"
   ]
  },
  {
   "cell_type": "markdown",
   "metadata": {},
   "source": [
    "### Data Types\n",
    "Python has numerous data types including: \n",
    "1. Numeric = int, float, complex numbers (10, 9.99, 5+3j)\n",
    "1. Sequence Type = str, lists, tuples (\"Hello\", [1, 2, 3], (1, 2, 3) tuples cannot be changed after they're created)\n",
    "1. Boolean = True or False \n",
    "1. Set = unique elements ({\"apple\", \"orange\", \"grape\"})\n",
    "1. Disctionary = key pairs (student = {\"name\" : \"Kevin\", \"major\" : \"CS})\n",
    "1. Binary types = bytes \n",
    "\n",
    "---"
   ]
  },
  {
   "cell_type": "markdown",
   "metadata": {},
   "source": [
    "### Variable Syntax \n",
    "\n",
    "- The name of the variable is the \"Name\"\n",
    "- The \"=\" is the operator\n",
    "- The str, int, or float is the \"Value\"\n",
    "\n",
    "### Naming Variables\n",
    "\n",
    "- To name variable you can either use CamelCase or Under_scores\n",
    "\n",
    "---"
   ]
  },
  {
   "cell_type": "markdown",
   "metadata": {},
   "source": [
    "### Variable Reassigment\n",
    "If you want to update variables you can use a function within itself as shown below\n",
    "\n",
    "---"
   ]
  },
  {
   "cell_type": "code",
   "execution_count": 13,
   "metadata": {},
   "outputs": [
    {
     "name": "stdout",
     "output_type": "stream",
     "text": [
      "12\n"
     ]
    }
   ],
   "source": [
    "var1 = 10\n",
    "var1 = var1 + 2\n",
    "print(var1)"
   ]
  },
  {
   "cell_type": "code",
   "execution_count": 15,
   "metadata": {},
   "outputs": [
    {
     "name": "stdout",
     "output_type": "stream",
     "text": [
      "5\n"
     ]
    }
   ],
   "source": [
    "# More Examples\n",
    "var1 = \"Hi\"\n",
    "var2 = 5\n",
    "#What is the value of var2 ?\n",
    "print(var2)"
   ]
  },
  {
   "cell_type": "code",
   "execution_count": 16,
   "metadata": {},
   "outputs": [
    {
     "name": "stdout",
     "output_type": "stream",
     "text": [
      "10\n"
     ]
    }
   ],
   "source": [
    "var1 = \"Hello\"\n",
    "var1 = 10\n",
    "#What is the value of var1 ?\n",
    "print(var1)"
   ]
  },
  {
   "cell_type": "code",
   "execution_count": 17,
   "metadata": {},
   "outputs": [
    {
     "name": "stdout",
     "output_type": "stream",
     "text": [
      "10\n"
     ]
    }
   ],
   "source": [
    "var1 = 10\n",
    "var2 = var1\n",
    "#What is the value of var2 ?\n",
    "print(var2)"
   ]
  },
  {
   "cell_type": "code",
   "execution_count": 18,
   "metadata": {},
   "outputs": [
    {
     "name": "stdout",
     "output_type": "stream",
     "text": [
      "300\n",
      "300\n",
      "300\n"
     ]
    }
   ],
   "source": [
    "var1 = var2 = var3 = 300\n",
    "#What is the value of var1, var2, and var3 ?\n",
    "print(var1)\n",
    "print(var2)\n",
    "print(var3)"
   ]
  },
  {
   "cell_type": "markdown",
   "metadata": {},
   "source": [
    "# CHP 3 String Slicing"
   ]
  },
  {
   "cell_type": "markdown",
   "metadata": {},
   "source": [
    "### Literals \n",
    "- A string literal or text is enclose in \"Quotes\"\n",
    "- A numeric literal is not enclosed\n",
    "\n",
    "---"
   ]
  },
  {
   "cell_type": "code",
   "execution_count": 19,
   "metadata": {},
   "outputs": [
    {
     "name": "stdout",
     "output_type": "stream",
     "text": [
      "String Literal\n",
      "Numeric Literal: 45\n"
     ]
    }
   ],
   "source": [
    "print(\"String Literal\")\n",
    "print(\"Numeric Literal:\", 45)"
   ]
  },
  {
   "cell_type": "markdown",
   "metadata": {},
   "source": [
    "### Data Type Shifters\n",
    "- To change a data into a string add the str() f(x) before a print statment\n",
    "- It is impossible to add together numeric and string literals \n",
    "\n",
    "---"
   ]
  },
  {
   "cell_type": "code",
   "execution_count": 22,
   "metadata": {},
   "outputs": [
    {
     "name": "stdout",
     "output_type": "stream",
     "text": [
      "45 This is a String\n"
     ]
    }
   ],
   "source": [
    "print(str(45) + \" This is a String\")"
   ]
  },
  {
   "cell_type": "markdown",
   "metadata": {},
   "source": [
    "### More f(x)\n",
    "- The strip() removes excess white space\n",
    "- The len() returns the number of characters\n",
    "- The lower() & upper() changes the case of the message (For Variables)\n",
    "- The replace() replaces selected letters\n",
    "\n",
    "---"
   ]
  },
  {
   "cell_type": "code",
   "execution_count": 25,
   "metadata": {},
   "outputs": [
    {
     "name": "stdout",
     "output_type": "stream",
     "text": [
      "MIke\n",
      "11\n",
      "mike       \n",
      "MIKE       \n",
      "PIke       \n"
     ]
    }
   ],
   "source": [
    "var = \"MIke       \"\n",
    "print(var.strip())\n",
    "print(len(var))\n",
    "print(var.lower())\n",
    "print(var.upper())\n",
    "print(var.replace(\"MI\" , \"PI\"))"
   ]
  },
  {
   "cell_type": "markdown",
   "metadata": {},
   "source": [
    "### String Slicing\n",
    "- Negative Indices start from the end of a variable and return your input \n",
    "- variable [-1] returns the last letter \n",
    "- variable [0] returns the first letter\n",
    " \n",
    " ---"
   ]
  },
  {
   "cell_type": "code",
   "execution_count": 29,
   "metadata": {},
   "outputs": [
    {
     "name": "stdout",
     "output_type": "stream",
     "text": [
      "d\n",
      "H\n"
     ]
    }
   ],
   "source": [
    "var = \"Hello World\"\n",
    "print(var [-1])\n",
    "print (var [0])"
   ]
  },
  {
   "cell_type": "markdown",
   "metadata": {},
   "source": [
    "### String Slicing CONT\n",
    "To select specific letter you need to use string slicing as show below\n",
    "\n",
    "---"
   ]
  },
  {
   "cell_type": "code",
   "execution_count": 49,
   "metadata": {},
   "outputs": [
    {
     "name": "stdout",
     "output_type": "stream",
     "text": [
      "HloWrd\n",
      "Hello\n",
      "HloWrd\n",
      "World\n",
      " World\n",
      "Hello Worl\n",
      "dlroW olleH\n"
     ]
    }
   ],
   "source": [
    "# [Start:End:Skip/Step]\n",
    "var = \"Hello World\"\n",
    "print(var [0:11:2])\n",
    "# [:Letter from start]\n",
    "print(var [:5])\n",
    "# [::2] (Every other letter)\n",
    "print(var[::2])\n",
    "# [Start:Stop]\n",
    "print(var [6:11])\n",
    "# [Start:End of sentence]\n",
    "print (var [5:])\n",
    "# [:-start]\n",
    "print(var [:-1])\n",
    "# [::-start] (Backwards)\n",
    "print(var [::-1])"
   ]
  },
  {
   "cell_type": "markdown",
   "metadata": {},
   "source": [
    "### Repeat Fuction\n",
    "If you want to repeat the same function multiple times add a (*) to multiple the amount of times you want the print to repeat as shown below\n",
    "\n",
    "---"
   ]
  },
  {
   "cell_type": "code",
   "execution_count": 51,
   "metadata": {},
   "outputs": [
    {
     "name": "stdout",
     "output_type": "stream",
     "text": [
      "CS CS CS CS CS CS CS CS CS CS CS CS CS CS CS CS CS CS CS CS \n"
     ]
    }
   ],
   "source": [
    "print(\"CS \" * 20)"
   ]
  },
  {
   "cell_type": "markdown",
   "metadata": {},
   "source": [
    "### The Input f(x)\n",
    "The Input function allows the user to input information that can be printed as shown below\n",
    "\n",
    "---"
   ]
  },
  {
   "cell_type": "code",
   "execution_count": 55,
   "metadata": {},
   "outputs": [
    {
     "name": "stdout",
     "output_type": "stream",
     "text": [
      "What is your name?\n",
      "Hello Kevin How are you?\n"
     ]
    }
   ],
   "source": [
    "print(\"What is your name?\")\n",
    "name = input()\n",
    "\n",
    "print(f\"Hello\", name, \"How are you?\")"
   ]
  },
  {
   "cell_type": "markdown",
   "metadata": {},
   "source": [
    "# CHP 4 Operators & Operands"
   ]
  },
  {
   "cell_type": "markdown",
   "metadata": {},
   "source": [
    "### Introduction\n",
    "Operators\n",
    "- Operators are specias tokens or symbols that represent computations\n",
    "\n",
    "Operands\n",
    "- The values that operators work on\n",
    "\n",
    "---\n"
   ]
  },
  {
   "cell_type": "code",
   "execution_count": 58,
   "metadata": {},
   "outputs": [
    {
     "name": "stdout",
     "output_type": "stream",
     "text": [
      "7\n"
     ]
    }
   ],
   "source": [
    "# Operators include +, -, *, //\n",
    "print(3 + 4)"
   ]
  },
  {
   "cell_type": "markdown",
   "metadata": {},
   "source": [
    "### Types of Operators \n",
    "- ()\n",
    "- (+) and (-)\n",
    "- ** Exponential Powers\n",
    "- (*), % (Mod), / (Division), // (int Disivision)\n",
    "- Comparsions <, >, !=, ==, <=, etc.\n",
    "\n",
    "---"
   ]
  },
  {
   "cell_type": "code",
   "execution_count": 59,
   "metadata": {},
   "outputs": [
    {
     "name": "stdout",
     "output_type": "stream",
     "text": [
      "2\n",
      "0\n",
      "16\n",
      "8\n",
      "2.0\n",
      "2.0952380952380953\n",
      "1.1000000000000005\n",
      "False\n"
     ]
    }
   ],
   "source": [
    "# Examples\n",
    "print(1 + 1)\n",
    "print( 1 - 1)\n",
    "print(2 ** 4)\n",
    "print(2 * 4)\n",
    "print(4 / 2)\n",
    "print(4.4 / 2.1)\n",
    "print(4.4 % 3.3) \n",
    "print(10 < 5)"
   ]
  },
  {
   "cell_type": "markdown",
   "metadata": {},
   "source": [
    "### Math f(x)\n",
    "Other math functions include: \n",
    "- abs()\n",
    "- max(list)\n",
    "- min(list)\n",
    "- sum([numbers])\n",
    "- round(x, decimal place)\n",
    "- pow(base, power)\n",
    "- divmod(numerator, denominator) returns quotient and the remainder\n",
    "\n",
    "---"
   ]
  },
  {
   "cell_type": "code",
   "execution_count": 67,
   "metadata": {},
   "outputs": [
    {
     "name": "stdout",
     "output_type": "stream",
     "text": [
      "5\n",
      "3\n",
      "1\n",
      "9\n",
      "3.15\n",
      "8\n",
      "(4, 1)\n"
     ]
    }
   ],
   "source": [
    "# Examples\n",
    "print(abs(-5))\n",
    "print(max(1, 2, 3))\n",
    "print(min(1, 2, 3))\n",
    "print(sum([1, 3, 5]))\n",
    "print(round(3.1456, 2))\n",
    "print(pow(2, 3))\n",
    "print(divmod(9,2))"
   ]
  },
  {
   "cell_type": "markdown",
   "metadata": {},
   "source": [
    "### Importing Math\n",
    "If you want more then the build in command you can start your code with \"import math as variable\" giving you all of the maths plugin\n",
    "\n",
    "---"
   ]
  },
  {
   "cell_type": "code",
   "execution_count": 69,
   "metadata": {},
   "outputs": [
    {
     "data": {
      "text/plain": [
       "3628800"
      ]
     },
     "execution_count": 69,
     "metadata": {},
     "output_type": "execute_result"
    }
   ],
   "source": [
    "# Examples \n",
    "import math as m\n",
    "m.factorial(10)"
   ]
  },
  {
   "cell_type": "markdown",
   "metadata": {},
   "source": [
    "### Shortcuts\n",
    "Assuming x and y variables are set\n",
    "- +=  (x += y)\n",
    "   - x = x + y   \n",
    "- -=  (x -= y)\n",
    "   - x = x - y \n",
    "- *=  (x *= y)\n",
    "   - x = x * y \n",
    "- /=  (x /= y)\n",
    "   - x = x / y \n",
    "- %=  (x %= y)\n",
    "   - x = x % y \n",
    "- **=  (x **= y)\n",
    "   - x = x ** y \n",
    "\n",
    "---"
   ]
  },
  {
   "cell_type": "markdown",
   "metadata": {},
   "source": [
    "### Logical Operators \n",
    "and, or, & not\n",
    "- and: both must be true to = true \n",
    "- or: only one has to be true to = true\n",
    "- not: whatever has not is always = opposite \n",
    "\n",
    "Order of Precedence \n",
    "1. not\n",
    "1. and \n",
    "1. or\n",
    "\n",
    "---"
   ]
  },
  {
   "cell_type": "code",
   "execution_count": 109,
   "metadata": {},
   "outputs": [
    {
     "name": "stdout",
     "output_type": "stream",
     "text": [
      "True\n",
      "False\n",
      "True\n",
      "False\n",
      "True\n",
      "False\n"
     ]
    }
   ],
   "source": [
    "# Examples\n",
    "a = 5\n",
    "b = 10\n",
    "\n",
    "# And True & False\n",
    "print(a == 5 and b == 10)\n",
    "print(a == 5 and b == 20)\n",
    "\n",
    "# Or True & False\n",
    "print(a == 5 or a == 10)\n",
    "print(a == 6 or b == 21)\n",
    "\n",
    "# Not True & False\n",
    "print(not(a == 10))\n",
    "# A is not 5 = true (opposite)\n",
    "print(not(a == 5))\n",
    "# A is 5 = false (opposite)"
   ]
  },
  {
   "cell_type": "markdown",
   "metadata": {},
   "source": [
    "### String Comparsions \n",
    "Strings are ordered by many factors including: \n",
    "- Digits 0-9\n",
    "- Upper from A-Z\n",
    "- lower a-z\n",
    "\n",
    "**The examples below are all strings not numbers**\n",
    "\n",
    "---"
   ]
  },
  {
   "cell_type": "code",
   "execution_count": 7,
   "metadata": {},
   "outputs": [
    {
     "name": "stdout",
     "output_type": "stream",
     "text": [
      "False\n",
      "True\n",
      "True\n",
      "True\n",
      "False\n"
     ]
    }
   ],
   "source": [
    "print(\"apple\" < \"Apple\")\n",
    "# Lowercase is considered larger then uppercase\n",
    "print(\"App\" < \"Apple\")\n",
    "# The amount of characters is less than \"Apple\"\n",
    "print(\"1\" < \"5\")\n",
    "# The unicode of \"1\" is less that a unicode of \"5\"\n",
    "print(\"10\" < \"5\")\n",
    "# The first Unicode of \"1 is less that \"5\" it only compares the first digit"
   ]
  },
  {
   "cell_type": "markdown",
   "metadata": {},
   "source": [
    "### And & Or Returns \n",
    "- The And operator always returns the second operand if both are true\n",
    "    - 'ab' and 'cd' evaluates to 'cd’ (Right)\n",
    "\n",
    "- The Or operator always returns the first turthful operand\n",
    "    - 'cd' or 'ef' evaluates to 'cd’ (Left)\n",
    "\n",
    "---"
   ]
  },
  {
   "cell_type": "code",
   "execution_count": 10,
   "metadata": {},
   "outputs": [
    {
     "name": "stdout",
     "output_type": "stream",
     "text": [
      "cd\n",
      "cd\n",
      "cd\n"
     ]
    }
   ],
   "source": [
    "# Example\n",
    "print(\"ab\" and \"cd\")\n",
    "print(\"cd\" or \"ef\")\n",
    "print(\"ab\" and \"cd\" or \"ef\")\n",
    "# Right and Left come out to center"
   ]
  },
  {
   "cell_type": "markdown",
   "metadata": {},
   "source": [
    "# END OF REVIEW NOTES"
   ]
  },
  {
   "cell_type": "code",
   "execution_count": 12,
   "metadata": {},
   "outputs": [
    {
     "name": "stdout",
     "output_type": "stream",
     "text": [
      "Hello Python is running correctly\n",
      "The sum of 10 and 20 is 30\n"
     ]
    }
   ],
   "source": [
    "# CHP 1 Practice\n",
    "# Class\n",
    "print(\"Hello Python is running correctly\")\n",
    "a = 10\n",
    "b = 20\n",
    "\n",
    "sum = a + b\n",
    "print(f\"The sum of {a} and {b} is {sum}\")"
   ]
  },
  {
   "cell_type": "markdown",
   "metadata": {},
   "source": [
    "### Blind Test 1:\n",
    "Question 1\n",
    "What is the result of the following code? fruits = ['apple', 'banana', 'cherry'] \n",
    "print(fruits[1])\n",
    "- banana (order of the list 0, **1**, 2)\n",
    "\n",
    "---"
   ]
  },
  {
   "cell_type": "code",
   "execution_count": 15,
   "metadata": {},
   "outputs": [
    {
     "name": "stdout",
     "output_type": "stream",
     "text": [
      "banana\n"
     ]
    }
   ],
   "source": [
    "# Q1\n",
    "fruits = ['apple', 'banana', 'cherry'] \n",
    "print(fruits[1])"
   ]
  },
  {
   "cell_type": "markdown",
   "metadata": {},
   "source": [
    "Question 2\n",
    "\n",
    "Which of the following is NOT a valid Python variable name?\n",
    "- 3name (numbers can't start variables)\n",
    "\n",
    "---"
   ]
  },
  {
   "cell_type": "code",
   "execution_count": null,
   "metadata": {},
   "outputs": [],
   "source": [
    "# Q2 \n",
    "3name = mike"
   ]
  },
  {
   "cell_type": "markdown",
   "metadata": {},
   "source": [
    "Question 3\n",
    "What is the purpose of the 'if' statement in Python?\n",
    "- to perform certain actions based on given **conditions**\n",
    "\n",
    "---"
   ]
  },
  {
   "cell_type": "markdown",
   "metadata": {},
   "source": [
    "Question 4\n",
    "\n",
    "Which of the following is NOT a built-in data type in Python?\n",
    "- list\n",
    "\n",
    "---"
   ]
  },
  {
   "cell_type": "markdown",
   "metadata": {},
   "source": [
    "Question 5\n",
    "What is the correct syntax to create an empty list in Python?\n",
    "\n",
    "- []\n",
    "\n",
    "---"
   ]
  },
  {
   "cell_type": "code",
   "execution_count": 18,
   "metadata": {},
   "outputs": [
    {
     "name": "stdout",
     "output_type": "stream",
     "text": [
      "[1, 2, 3]\n"
     ]
    }
   ],
   "source": [
    "# Q5 \n",
    "print([1,2,3])"
   ]
  },
  {
   "cell_type": "markdown",
   "metadata": {},
   "source": [
    "Question 6\n",
    "What does the 'import' keyword do in Python?\n",
    "\n",
    "- allows the use of modules or packages in a program\n",
    "\n",
    "---"
   ]
  },
  {
   "cell_type": "code",
   "execution_count": 21,
   "metadata": {},
   "outputs": [],
   "source": [
    "# Q6\n",
    "import math"
   ]
  },
  {
   "cell_type": "markdown",
   "metadata": {},
   "source": [
    "Question 7\n",
    "Which of the following is used to define a function in Python?\n",
    "\n",
    "- def\n",
    "\n",
    "---"
   ]
  },
  {
   "cell_type": "markdown",
   "metadata": {},
   "source": [
    "Question 8\n",
    "What will the result of the following code be? x = 5 y = 2 print(x / y)\n",
    "\n",
    "- 2.5 \n",
    "\n",
    "---"
   ]
  },
  {
   "cell_type": "code",
   "execution_count": 26,
   "metadata": {},
   "outputs": [
    {
     "name": "stdout",
     "output_type": "stream",
     "text": [
      "2.5\n"
     ]
    }
   ],
   "source": [
    "# Q8 \n",
    "x = 5 \n",
    "y = 2\n",
    "print(x / y)"
   ]
  },
  {
   "cell_type": "markdown",
   "metadata": {},
   "source": [
    "Question 9\n",
    "What does the 'len()' function return?\n",
    "\n",
    "- the number of items in an object\n",
    "---"
   ]
  },
  {
   "cell_type": "code",
   "execution_count": 27,
   "metadata": {},
   "outputs": [
    {
     "name": "stdout",
     "output_type": "stream",
     "text": [
      "4\n"
     ]
    }
   ],
   "source": [
    "# Q9\n",
    "print(len(\"Mike\"))"
   ]
  },
  {
   "cell_type": "markdown",
   "metadata": {},
   "source": [
    "Question 10\n",
    "What is the output of the following Python code? print(2 + 2)\n",
    "\n",
    "- 4\n",
    "\n",
    "---"
   ]
  },
  {
   "cell_type": "code",
   "execution_count": 28,
   "metadata": {},
   "outputs": [
    {
     "name": "stdout",
     "output_type": "stream",
     "text": [
      "4\n"
     ]
    }
   ],
   "source": [
    "# Q10\n",
    "print(2 + 2)"
   ]
  },
  {
   "cell_type": "markdown",
   "metadata": {},
   "source": [
    "Question 11\n",
    "\n",
    "What is the result of the following code? print(bool('False'))\n",
    "\n",
    "- True \n",
    "\n",
    "---"
   ]
  },
  {
   "cell_type": "code",
   "execution_count": 29,
   "metadata": {},
   "outputs": [
    {
     "name": "stdout",
     "output_type": "stream",
     "text": [
      "True\n"
     ]
    }
   ],
   "source": [
    "# Q11\n",
    "print(bool('False'))"
   ]
  },
  {
   "cell_type": "markdown",
   "metadata": {},
   "source": [
    "Question 12\n",
    "What does the 'range()' function return?\n",
    "\n",
    "- A sequence of numbers from start to end (exclusive)\n",
    "---"
   ]
  },
  {
   "cell_type": "markdown",
   "metadata": {},
   "source": [
    "Question 13\n",
    "What does the 'sort()' method do for a list in Python?\n",
    "\n",
    "- Sorts the elements of a list in ascending order\n",
    "---"
   ]
  },
  {
   "cell_type": "markdown",
   "metadata": {},
   "source": [
    "Question 14\n",
    "What is the output of the following code? print('Hello' + ' World!')\n",
    "\n",
    "- Hello World!\n",
    "---"
   ]
  },
  {
   "cell_type": "code",
   "execution_count": 43,
   "metadata": {},
   "outputs": [
    {
     "name": "stdout",
     "output_type": "stream",
     "text": [
      "Hello World!\n"
     ]
    }
   ],
   "source": [
    "# Q14\n",
    "print('Hello' + ' World!')"
   ]
  },
  {
   "cell_type": "markdown",
   "metadata": {},
   "source": [
    "Question 15\n",
    "What is the correct way to check if a value exists in a list in Python?\n",
    "\n",
    "- 'value in list'\n",
    "---"
   ]
  },
  {
   "cell_type": "markdown",
   "metadata": {},
   "source": [
    "Question 16\n",
    "Which keyword is used to exit a loop prematurely?\n",
    "\n",
    "- break \n",
    "---"
   ]
  },
  {
   "cell_type": "markdown",
   "metadata": {},
   "source": [
    "Question 17\n",
    "In Python, a variable cannot be reassigned after it has been declared.\n",
    "\n",
    "- false \n",
    "---"
   ]
  },
  {
   "cell_type": "markdown",
   "metadata": {},
   "source": [
    "Question 18\n",
    "Python programs can contain both an 'if' statement and a 'for' loop.\n",
    "\n",
    "- true\n",
    "---"
   ]
  },
  {
   "cell_type": "markdown",
   "metadata": {},
   "source": [
    "Question 19\n",
    "In Python, a class is a blueprint for creating objects.\n",
    "\n",
    "- true\n",
    "---"
   ]
  },
  {
   "cell_type": "markdown",
   "metadata": {},
   "source": [
    "Question 20\n",
    "The 'elif' statement is used to specify a new condition to test if the previous conditions are not true.\n",
    "\n",
    "- true\n",
    "---"
   ]
  },
  {
   "cell_type": "code",
   "execution_count": 100,
   "metadata": {},
   "outputs": [
    {
     "name": "stdout",
     "output_type": "stream",
     "text": [
      "Python is fun\n",
      "Python is a powerful language\n",
      "Blue:Green:Red\n",
      "Loading...Complete!User time: 20 Hours\n",
      "a = 15\n",
      "b = 10\n",
      "2\n",
      "3\n",
      "2\n"
     ]
    }
   ],
   "source": [
    "# CHP 2 Practice\n",
    "# Class\n",
    "\n",
    "# Task 1\n",
    "print(\"Python is fun\")\n",
    "# Task 2 \n",
    "var1 = \"Python\"\n",
    "var2 = \"is\"\n",
    "var3 = \"a\"\n",
    "var4 = \"powerful\"\n",
    "var5 = \"language\"\n",
    "\n",
    "print(var1 +\" \"+ var2 +\" \"+var3 +\" \"+ var4 +\" \"+var5)\n",
    "# Task 3\n",
    "print(\"Blue\", \"Green\", \"Red\", sep=\":\")\n",
    "# Task 4\n",
    "print(\"Loading...\", end=\"Complete!\")\n",
    "# Task 5\n",
    "time = \"20 Hours\"\n",
    "print(f\"User time: {time}\")\n",
    "\n",
    "# Find the data types \n",
    "x = \"Hello World\"\n",
    "type(x)\n",
    "\n",
    "# Swapping Vars\n",
    "a = 10\n",
    "b = 15\n",
    "\n",
    "a,b = b,a\n",
    "\n",
    "print(f\"a =\", a)\n",
    "print(f\"b =\", b)\n",
    "\n",
    "# CONT\n",
    "one = \"1\"\n",
    "two = \"2\"\n",
    "three = \"3\"\n",
    "\n",
    "one = two \n",
    "two = three\n",
    "three = one\n",
    "\n",
    "print(one)\n",
    "print(two)\n",
    "print(three)"
   ]
  },
  {
   "cell_type": "code",
   "execution_count": 105,
   "metadata": {},
   "outputs": [
    {
     "name": "stdout",
     "output_type": "stream",
     "text": [
      "PLease enter your test scores below\n",
      "\n",
      "Test #1: 90.0\n",
      "Test #2: 100.0\n",
      "Test #3: 80.0\n",
      "Here is your average: 90.0\n"
     ]
    }
   ],
   "source": [
    "# CHP 3 \n",
    "# Class\n",
    "\n",
    "#Task 1\n",
    "print(\"PLease enter your test scores below\")\n",
    "print(\"\")\n",
    "\n",
    "test_1 = float(input())\n",
    "test_2 = float(input())\n",
    "test_3 = float(input())\n",
    "\n",
    "print(f\"Test #1: {test_1}\")\n",
    "print(f\"Test #2: {test_2}\")\n",
    "print(f\"Test #3: {test_3}\")\n",
    "\n",
    "sum = test_1 + test_2 + test_3\n",
    "avg = sum / 3 \n",
    "print(f\"Here is your average: {avg}\")"
   ]
  },
  {
   "cell_type": "code",
   "execution_count": 108,
   "metadata": {},
   "outputs": [
    {
     "name": "stdout",
     "output_type": "stream",
     "text": [
      "What is your name?\n",
      "Your name is 12 letters long\n",
      "Here is the last two letters of your name on\n"
     ]
    }
   ],
   "source": [
    "# Task 2\n",
    "print(\"What is your name?\")\n",
    "name = input()\n",
    "\n",
    "print(\"Your name is\", len(name), \"letters long\")\n",
    "\n",
    "print(\"Here is the last two letters of your name\", name[-2:])"
   ]
  },
  {
   "cell_type": "code",
   "execution_count": 119,
   "metadata": {},
   "outputs": [
    {
     "name": "stdout",
     "output_type": "stream",
     "text": [
      "Please enter: I Love Python!\n",
      "Python! w/Index\n",
      "Python!\n",
      "Python! w/String Slicing\n",
      "Python!\n",
      "Python! w/negative indixes\n",
      "Python!\n"
     ]
    },
    {
     "data": {
      "text/plain": [
       "2432902008176640000"
      ]
     },
     "execution_count": 119,
     "metadata": {},
     "output_type": "execute_result"
    }
   ],
   "source": [
    "# String Slicing\n",
    "print(\"Please enter: I Love Python!\")\n",
    "text = input()\n",
    "\n",
    "# Task 1 Index\n",
    "print(\"Python! w/Index\")\n",
    "print(text[7:])\n",
    "\n",
    "# Task 2 String Slicing \n",
    "print(\"Python! w/String Slicing\")\n",
    "print(text[7:14])\n",
    "\n",
    "# Task 3 Negative Indices \n",
    "print(\"Python! w/negative indixes\")\n",
    "print(text[-7:])\n",
    "\n",
    "# Math / Import\n",
    "import math as m \n",
    "m.factorial(20)"
   ]
  },
  {
   "cell_type": "code",
   "execution_count": 138,
   "metadata": {},
   "outputs": [
    {
     "name": "stdout",
     "output_type": "stream",
     "text": [
      "8.0\n",
      "5\n",
      "7\n",
      "720\n",
      "2.9999999999999996\n",
      "0.9999999999999999\n"
     ]
    }
   ],
   "source": [
    "# CHP 4 \n",
    "#Class\n",
    "import math as m \n",
    "from math import pi\n",
    "#Task 1 \n",
    "print(m.sqrt(64))\n",
    "\n",
    "# Task 2 \n",
    "print(m.ceil(4.7))\n",
    "\n",
    "# Task 3\n",
    "print(m.floor(7.3))\n",
    "\n",
    "# Task 4 \n",
    "print(m.factorial(6))\n",
    "\n",
    "# Task 5 \n",
    "print(m.log(1000, 10))\n",
    " \n",
    "# Task 6 \n",
    "print(m.tan(pi / 4))"
   ]
  },
  {
   "cell_type": "code",
   "execution_count": 1,
   "metadata": {},
   "outputs": [
    {
     "name": "stdout",
     "output_type": "stream",
     "text": [
      "o\n"
     ]
    }
   ],
   "source": [
    "# Cheat Sheat\n",
    "n = \"I love Mike\"\n",
    "print(n[-8])"
   ]
  }
 ],
 "metadata": {
  "kernelspec": {
   "display_name": "Python 3",
   "language": "python",
   "name": "python3"
  },
  "language_info": {
   "codemirror_mode": {
    "name": "ipython",
    "version": 3
   },
   "file_extension": ".py",
   "mimetype": "text/x-python",
   "name": "python",
   "nbconvert_exporter": "python",
   "pygments_lexer": "ipython3",
   "version": "3.11.9"
  }
 },
 "nbformat": 4,
 "nbformat_minor": 2
}
