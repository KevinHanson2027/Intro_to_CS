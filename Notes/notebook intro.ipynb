{
 "cells": [
  {
   "cell_type": "markdown",
   "metadata": {},
   "source": [
    "# Lab 1: Get started with JupyterLab"
   ]
  },
  {
   "cell_type": "markdown",
   "metadata": {},
   "source": [
    "## 1. Markdown for Jupyter notebooks \n"
   ]
  },
  {
   "cell_type": "markdown",
   "metadata": {},
   "source": [
    "You can use Markdown to format documentation you add to Markdown cells in your Jupyter notebook.\n",
    "\n",
    "Headings\n",
    "Use the number sign (#) followed by a blank space for notebook titles and section headings:\n",
    "# for titles\n",
    "## for major headings\n",
    "### for subheadings\n",
    "#### for 4th level subheadings\n",
    "Emphasis\n",
    "Use the following code to emphasize text:\n",
    "Bold text: __string__ or **string**\n",
    "Italic text: _string_ or *string*"
   ]
  },
  {
   "cell_type": "markdown",
   "metadata": {},
   "source": [
    "**Mathematical symbols**\n",
    "\n",
    "Surround mathematical symbols with a dollar sign ($), for example:"
   ]
  },
  {
   "cell_type": "markdown",
   "metadata": {
    "tags": []
   },
   "source": [
    "$ z^2 = x^2 + y^2 $"
   ]
  },
  {
   "cell_type": "markdown",
   "metadata": {},
   "source": [
    "**Monospace font**\n",
    "\n",
    "Surround text with a grave accent (`) also called a back single quotation mark, for example:\n",
    "\n",
    "`This is string`\n"
   ]
  },
  {
   "cell_type": "markdown",
   "metadata": {},
   "source": [
    "**Indenting**\n",
    "\n",
    "Use the greater than sign (>) followed by a space, for example:\n",
    "> This is Data Science class"
   ]
  },
  {
   "cell_type": "markdown",
   "metadata": {},
   "source": [
    "**Bullets**\n",
    "\n",
    "To create a circular bullet point, use one of the following methods. Each bullet point must be on its own line.\n",
    "- A hyphen (-) followed by one or two spaces, for example: - Bulleted item\n",
    "- A space, a hyphen (-) and a space, for example:  - Bulleted item\n",
    "- An asterisk (*) followed by one or two spaces, for example: * Bulleted item\n",
    "\n",
    "To create a sub bullet, press Tab before entering the bullet point using one of the methods described above. For example:\n",
    "- Main bullet point\n",
    "     - Sub bullet point"
   ]
  },
  {
   "cell_type": "markdown",
   "metadata": {},
   "source": [
    "**Numbered lists**\n",
    "\n",
    "To create a numbered list, enter 1. followed by a space, for example:\n",
    "\n",
    "1. Numbered item\n",
    "1. Numbered item\n",
    "\n",
    "For simplicity, you use 1. before each entry. The list will be numbered correctly when you run the cell.\n",
    "\n"
   ]
  },
  {
   "cell_type": "markdown",
   "metadata": {},
   "source": [
    "To create a substep, press Tab before entering the numbered item, for example:\n",
    "1. Numbered item\n",
    "     1. Substep"
   ]
  },
  {
   "cell_type": "markdown",
   "metadata": {
    "tags": []
   },
   "source": [
    "### Colored note boxes\n",
    "\n",
    "Use one of the following <div> tags to display text in a colored box. \n",
    "    \n",
    "The color of the box is determined by the alert type that you specify:"
   ]
  },
  {
   "cell_type": "markdown",
   "metadata": {
    "tags": []
   },
   "source": [
    "#### Blue boxes (alert-info)\n",
    "    \n",
    "Use the following to generate blue box alert:"
   ]
  },
  {
   "cell_type": "markdown",
   "metadata": {
    "tags": []
   },
   "source": [
    "```\n",
    "<div class=\"alert alert-block alert-info\">\n",
    "<b>Tip:</b> Use blue boxes (alert-info) for tips and notes. \n",
    "If it’s a note, you don’t have to include the word “Note”.\n",
    "</div>\n",
    "```"
   ]
  },
  {
   "cell_type": "markdown",
   "metadata": {
    "tags": []
   },
   "source": [
    "<div class=\"alert alert-block alert-info\">\n",
    "<b>Tip:</b> Use blue boxes (alert-info) for tips and notes. \n",
    "If it’s a note, you don’t have to include the word “Note”.\n",
    "</div>"
   ]
  },
  {
   "cell_type": "markdown",
   "metadata": {},
   "source": [
    "#### Green boxes (alert-success)"
   ]
  },
  {
   "cell_type": "code",
   "execution_count": 3,
   "metadata": {},
   "outputs": [],
   "source": [
    "# <div class=\"alert alert-block alert-success\">\n",
    "# <b>Up to you:</b> Use green boxes sparingly, and only for some specific \n",
    "# purpose that the other boxes can't cover. For example, if you have a lot \n",
    "# of related content to link to, maybe you decide to use green boxes for \n",
    "# related links from each section of a notebook.\n",
    "# </div>"
   ]
  },
  {
   "cell_type": "markdown",
   "metadata": {},
   "source": [
    "<div class=\"alert alert-block alert-success\">\n",
    "<b>Up to you:</b> Use green boxes sparingly, and only for some specific \n",
    "purpose that the other boxes can't cover. For example, if you have a lot \n",
    "of related content to link to, maybe you decide to use green boxes for \n",
    "related links from each section of a notebook.\n",
    "</div>"
   ]
  },
  {
   "cell_type": "markdown",
   "metadata": {},
   "source": [
    "#### External links\n",
    "\n",
    "To link to an external site, use the following code:"
   ]
  },
  {
   "cell_type": "code",
   "execution_count": 4,
   "metadata": {
    "tags": []
   },
   "outputs": [],
   "source": [
    "#Code:   __[link text](http://url)__\n",
    "# Surround the link with two underscores (_) on each side"
   ]
  },
  {
   "cell_type": "markdown",
   "metadata": {
    "tags": []
   },
   "source": [
    "__[Fairfield University](https://www.fairfield.edu)__"
   ]
  },
  {
   "cell_type": "markdown",
   "metadata": {},
   "source": [
    "**Graphics**\n",
    "\n",
    "You can attach image files directly to a notebook in Markdown cells by dragging and dropping it into the cell.\n",
    "To add images to other cell types, use graphics that are hosted on the web with this code, substituting url/name with the full URL and name of the image:  "
   ]
  },
  {
   "cell_type": "code",
   "execution_count": 5,
   "metadata": {
    "tags": []
   },
   "outputs": [],
   "source": [
    "# <img src=“url/filename.gif” alt=“Alt text” title=“Title text” />"
   ]
  },
  {
   "cell_type": "code",
   "execution_count": 6,
   "metadata": {
    "tags": []
   },
   "outputs": [],
   "source": [
    "# <img src=\"https://www.fairfield.edu/files/images/shared-images/0000_redesign_footer_fairfield-university-logo_stacked_07312017.png\" alt=\"Fairfield U\" title=\"Fairfield U\" />"
   ]
  },
  {
   "cell_type": "markdown",
   "metadata": {
    "tags": []
   },
   "source": [
    "<img src=\"https://www.fairfield.edu/files/images/shared-images/0000_redesign_footer_fairfield-university-logo_stacked_07312017.png\" alt=\"Fairfield U\" title=\"Fairfield U\" />"
   ]
  },
  {
   "cell_type": "markdown",
   "metadata": {
    "tags": []
   },
   "source": [
    "#### Geometric shapes"
   ]
  },
  {
   "cell_type": "code",
   "execution_count": 7,
   "metadata": {
    "tags": []
   },
   "outputs": [],
   "source": [
    "# Use <p>&#reference_number</p>. "
   ]
  },
  {
   "cell_type": "markdown",
   "metadata": {
    "tags": []
   },
   "source": [
    "For a list of reference numbers, see __[UTF-8 Geometric shapes.](https://www.w3schools.com/charsets/ref_utf_geometric.asp)__"
   ]
  },
  {
   "cell_type": "markdown",
   "metadata": {
    "tags": []
   },
   "source": [
    "<p>&#9632</p>"
   ]
  },
  {
   "cell_type": "markdown",
   "metadata": {},
   "source": [
    "#### Horizontal lines\n",
    "\n",
    "On a new line, enter three asterisks:  ***\n",
    "\n",
    "***\n",
    "\n"
   ]
  },
  {
   "cell_type": "markdown",
   "metadata": {},
   "source": [
    "#### Internal links\n",
    "\n",
    "To link to a section within your notebook, use the following code:"
   ]
  },
  {
   "cell_type": "code",
   "execution_count": 8,
   "metadata": {
    "tags": []
   },
   "outputs": [],
   "source": [
    "#code:   [Section title](#section-title)"
   ]
  },
  {
   "cell_type": "markdown",
   "metadata": {},
   "source": [
    "For the text inside the parentheses, replace any spaces and special characters with a hyphen"
   ]
  },
  {
   "cell_type": "markdown",
   "metadata": {
    "tags": []
   },
   "source": [
    "[Clean the data](#clean-the-data)"
   ]
  }
 ],
 "metadata": {
  "kernelspec": {
   "display_name": "Python 3 (ipykernel)",
   "language": "python",
   "name": "python3"
  },
  "language_info": {
   "codemirror_mode": {
    "name": "ipython",
    "version": 3
   },
   "file_extension": ".py",
   "mimetype": "text/x-python",
   "name": "python",
   "nbconvert_exporter": "python",
   "pygments_lexer": "ipython3",
   "version": "3.11.4"
  },
  "nteract": {
   "version": "0.15.0"
  },
  "vscode": {
   "interpreter": {
    "hash": "b69528a2da3c73f2a185b28c98e2812021eb7e958d829d4ca6b2225ce78c3469"
   }
  }
 },
 "nbformat": 4,
 "nbformat_minor": 4
}
