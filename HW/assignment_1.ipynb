{
 "cells": [
  {
   "cell_type": "code",
   "execution_count": 3,
   "id": "e8bc78c1-69e6-485a-9022-2a2c2d5af8e8",
   "metadata": {},
   "outputs": [
    {
     "name": "stdout",
     "output_type": "stream",
     "text": [
      "Hello, Python is running successfully!\n",
      "The sum of 10 and 20 is: 30\n"
     ]
    }
   ],
   "source": [
    "# test_script.py\n",
    " \n",
    "# This script prints a simple message and calculates the sum of two numbers\n",
    " \n",
    "# Print a welcome message\n",
    "print(\"Hello, Python is running successfully!\")\n",
    " \n",
    "# Define two numbers\n",
    "a = 10\n",
    "b = 20\n",
    " \n",
    "# Calculate their sum\n",
    "sum_result = a + b\n",
    " \n",
    "# Print the sum\n",
    "print(f\"The sum of {a} and {b} is: {sum_result}\")"
   ]
  }
 ],
 "metadata": {
  "kernelspec": {
   "display_name": "Python 3 (ipykernel)",
   "language": "python",
   "name": "python3"
  },
  "language_info": {
   "codemirror_mode": {
    "name": "ipython",
    "version": 3
   },
   "file_extension": ".py",
   "mimetype": "text/x-python",
   "name": "python",
   "nbconvert_exporter": "python",
   "pygments_lexer": "ipython3",
   "version": "3.12.4"
  }
 },
 "nbformat": 4,
 "nbformat_minor": 5
}
