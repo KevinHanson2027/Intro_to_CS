{
 "cells": [
  {
   "cell_type": "markdown",
   "metadata": {},
   "source": [
    "# Quiz 2 Review\n",
    "\n",
    "---"
   ]
  },
  {
   "cell_type": "markdown",
   "metadata": {},
   "source": [
    "1. Tuples\n",
    "\n",
    "Concept Review:\n",
    "\n",
    "Immutable: Explain that once a tuple is created, it cannot be modified.\n",
    "\n",
    "Syntax: (item1, item2, ...) vs. single-element tuple (item,)\n",
    "\n",
    "Quiz Topics:\n",
    "\n",
    "Tuple Basics: Creating, accessing elements, slicing.\n",
    "\n",
    "Tuple Methods: Explain limited methods, such as count() and index().\n",
    "\n",
    "Unpacking: Demonstrate multiple variable assignments (e.g., a, b = (1, 2)).\n",
    "\n",
    "Practice Questions:\n",
    "\n",
    "What will happen if we try to modify a tuple?\n",
    "\n",
    "Write a line of code to access the second element in a tuple."
   ]
  },
  {
   "cell_type": "code",
   "execution_count": 18,
   "metadata": {},
   "outputs": [
    {
     "name": "stdout",
     "output_type": "stream",
     "text": [
      "('Mike', 'Johny', 1, 25, 1)\n",
      "2\n",
      "2\n",
      "10 20 30\n"
     ]
    }
   ],
   "source": [
    "# Tuple\n",
    "\n",
    "myTuple = (\"Mike\", \"Johny\", 1, 25, 1)\n",
    "print(myTuple)\n",
    "myTuple[1:] # (start:end:skip)\n",
    "print(myTuple.count(1)) # Amount of vars in tuple\n",
    "print(myTuple.index(1)) # First instance \n",
    "\n",
    "x, y, z = (10, 20, 30) # Unpacking / Multiple Var Assignment\n",
    "print(x, y , z)"
   ]
  },
  {
   "cell_type": "code",
   "execution_count": 59,
   "metadata": {},
   "outputs": [
    {
     "name": "stdout",
     "output_type": "stream",
     "text": [
      "1\n",
      "2\n",
      "3\n",
      "hello\n",
      "\n",
      "Hello, Alice You are 30 years old.\n"
     ]
    }
   ],
   "source": [
    "# Iterating over a tuple\n",
    "my_tuple = (1, 2, 3, \"hello\")\n",
    "for item in my_tuple:\n",
    "    print(item)\n",
    "\n",
    "print()\n",
    "\n",
    "# Tuple def\n",
    "def greet(name, age):\n",
    "    print(\"Hello,\", name, \"You are\", age, \"years old.\")\n",
    "\n",
    "person = (\"Alice\", 30)\n",
    "greet(*person)  # Unpacking the tuple as arguments"
   ]
  },
  {
   "cell_type": "markdown",
   "metadata": {},
   "source": [
    "2. Dictionaries\n",
    "\n",
    "Concept Review:\n",
    "\n",
    "Key-value pairs: Emphasize unique keys and flexible values.\n",
    "\n",
    "Mutable: Dictionaries can be modified after creation.\n",
    "\n",
    "Quiz Topics:\n",
    "\n",
    "Dictionary Creation: Using {} syntax and dict() function.\n",
    "\n",
    "Accessing and Modifying Values: Adding new key-value pairs, updating values, and removing pairs.\n",
    "\n",
    "Dictionary Methods: Focus on .keys(), .values(), .items(), .get(), and .pop().\n",
    "\n",
    "Practice Questions:\n",
    "\n",
    "How can you retrieve a list of all keys in a dictionary?\n",
    "\n",
    "Write code to add a new key-value pair to an existing dictionary."
   ]
  },
  {
   "cell_type": "code",
   "execution_count": 55,
   "metadata": {},
   "outputs": [
    {
     "name": "stdout",
     "output_type": "stream",
     "text": [
      "{'name': 'Alice', 'age': 30, 'city': 'New York'} {'name': 'Bob', 'age': 25, 'city': 'Los Angeles'}\n",
      "\n",
      "dict_keys(['name', 'age', 'city'])\n",
      "dict_values(['Alice', 30, 'New York'])\n",
      "dict_items([('name', 'Alice'), ('age', 30), ('city', 'New York')])\n",
      "\n",
      "{'name': 'Alice', 'age': 31, 'city': 'New York', 'occupation': 'Engineer'}\n",
      "{'name': 'Alice', 'age': 31, 'occupation': 'Engineer'}\n",
      "31\n",
      "25\n"
     ]
    }
   ],
   "source": [
    "# Dictionaries\n",
    "my_dict = {'name': 'Alice', 'age': 30, 'city': 'New York'}\n",
    "my_dict1 = dict(name='Bob', age=25, city='Los Angeles') #Using dict function \n",
    "print(my_dict, my_dict1)\n",
    "\n",
    "print()\n",
    "\n",
    "my_dict['age'] # Use key to get \n",
    "print(my_dict.keys())\n",
    "print(my_dict.values())\n",
    "print(my_dict.items())\n",
    "\n",
    "print()\n",
    "\n",
    "my_dict['occupation'] = 'Engineer'  # Add a new key-value pair\n",
    "my_dict['age'] = 31  # Update an existing value\n",
    "print(my_dict)\n",
    "del my_dict['city']\n",
    "print(my_dict)\n",
    "print(my_dict.get('age'))\n",
    "\n",
    "removed_value = my_dict1.pop('age')\n",
    "print(removed_value)"
   ]
  },
  {
   "cell_type": "code",
   "execution_count": 61,
   "metadata": {},
   "outputs": [
    {
     "name": "stdout",
     "output_type": "stream",
     "text": [
      "name\n",
      "age\n",
      "city\n",
      "Alice\n",
      "30\n",
      "New York\n",
      "name Alice\n",
      "age 30\n",
      "city New York\n",
      "\n",
      "The key 'age' exists.\n",
      "\n",
      "{1: 1, 2: 4, 3: 9, 4: 16, 5: 25}\n"
     ]
    }
   ],
   "source": [
    "my_dict = {'name': 'Alice', 'age': 30, 'city': 'New York'}\n",
    "# Iterate over keys\n",
    "for key in my_dict.keys():\n",
    "    print(key)\n",
    "# Iterate over values\n",
    "for value in my_dict.values():\n",
    "    print(value)\n",
    "# Iterate over key-value pairs\n",
    "for key, value in my_dict.items():\n",
    "    print(key, value)\n",
    "\n",
    "print()\n",
    "\n",
    "if 'age' in my_dict:\n",
    "    print(\"The key 'age' exists.\")\n",
    "else:\n",
    "    print(\"The key 'age' does not exist.\")\n",
    "\n",
    "print()\n",
    "\n",
    "squares = {x: x**2 for x in range(1, 6)}\n",
    "print(squares)  # Output: {1: 1, 2: 4, 3: 9, 4: 16, 5: 25}"
   ]
  },
  {
   "cell_type": "markdown",
   "metadata": {},
   "source": [
    "3. Functions\n",
    "\n",
    "Concept Review:\n",
    "\n",
    "Defining a function with def, using parameters, and understanding return statements.\n",
    "\n",
    "Importance of reusable code and modular programming.\n",
    "\n",
    "Quiz Topics:\n",
    "\n",
    "Basic Function Definition: Syntax, parameters, and return values.\n",
    "\n",
    "Default Arguments: Using default values for parameters.\n",
    "\n",
    "Scope: Local vs. global variables within a function.\n",
    "\n",
    "Lambda Functions: Syntax for simple, anonymous functions.\n",
    "\n",
    "Practice Questions:\n",
    "\n",
    "Write a function that takes two arguments and returns their sum.\n",
    "\n",
    "What will happen if you try to access a local variable outside its function?"
   ]
  },
  {
   "cell_type": "code",
   "execution_count": 81,
   "metadata": {},
   "outputs": [
    {
     "name": "stdout",
     "output_type": "stream",
     "text": [
      "6\n",
      "\n",
      "\n",
      "44\n"
     ]
    }
   ],
   "source": [
    "# Functions\n",
    "def add_numbers(x, y):\n",
    "  \"\"\"Adds two numbers and returns the result.\"\"\"\n",
    "  result = x + y\n",
    "  return result\n",
    "print(add_numbers(2,4))\n",
    "\n",
    "def greet(name, greeting=\"Hello\"):\n",
    "  \"\"\"Greets a person with an optional greeting.\"\"\"\n",
    "  print(greeting, name)\n",
    "\n",
    "print()\n",
    "\n",
    "square = lambda x:x**2\n",
    "square(2)\n",
    "\n",
    "print()\n",
    "\n",
    "def example(a):\n",
    "  b = a * 2 # 10\n",
    "  c = h(b) # 29\n",
    "  return c + b + a # (29+10+5)\n",
    "\n",
    "def h(x): \n",
    "  result = 3 * x - 1\n",
    "  return result\n",
    "print(example(5))"
   ]
  }
 ],
 "metadata": {
  "kernelspec": {
   "display_name": "Python 3",
   "language": "python",
   "name": "python3"
  },
  "language_info": {
   "codemirror_mode": {
    "name": "ipython",
    "version": 3
   },
   "file_extension": ".py",
   "mimetype": "text/x-python",
   "name": "python",
   "nbconvert_exporter": "python",
   "pygments_lexer": "ipython3",
   "version": "3.11.9"
  }
 },
 "nbformat": 4,
 "nbformat_minor": 2
}
