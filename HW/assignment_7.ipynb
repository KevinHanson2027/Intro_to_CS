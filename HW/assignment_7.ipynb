{
 "cells": [
  {
   "cell_type": "markdown",
   "metadata": {},
   "source": [
    "# Assignment 7\n",
    "\n",
    "---"
   ]
  },
  {
   "cell_type": "markdown",
   "metadata": {},
   "source": [
    "## Prob. 1: Word Frequency Counter\n",
    "\n",
    "“Fairfield University values each of its students as individuals with unique abilities and potential, and respects the personal and academic freedom of all its members. At the same time, we seek to develop a greater sense of community, a sense that all of our members belong to and are involved in the University, sharing common goals and a common commitment to truth and justice, and manifesting in their lives the common concern for others which is the obligation of all educated, mature human beings.”\n",
    "\n",
    "---\n",
    "\n",
    "### Create a string with the paragraph above.\n",
    "- Use a dictionary as follows:\n",
    "\n",
    "---\n",
    "\n",
    "### For each word in the string:\n",
    "\n",
    "- Use the word as a key in your dictionary\n",
    "- If the key does not exist in your dictionary, add the word as the key and 1 as the value\n",
    "- If the key does exist in your dictionary, increment the value of the count for that key\n",
    "- Print your final dictionary\n",
    "\n",
    "### Example: \n",
    "\n",
    "- For the string: 'i am sam, sam i am. that sam i am, that sam i am, i do not like that sam i am'\n",
    "- The result should look like: {'i': 6, 'am': 5, 'sam': 5, 'that': 3, 'do': 1, 'not': 1, 'like': 1}\n",
    "\n",
    "---\n",
    "\n",
    "### Hints:\n",
    "- Remove all the punctuation before starting the processing\n",
    "- You can use the method split()\n",
    "\n",
    "---"
   ]
  },
  {
   "cell_type": "code",
   "execution_count": 95,
   "metadata": {},
   "outputs": [
    {
     "name": "stdout",
     "output_type": "stream",
     "text": [
      "{'fairfield': 1, 'university': 2, 'values': 1, 'each': 1, 'of': 5, 'its': 2, 'students': 1, 'as': 1, 'individuals': 1, 'with': 1, 'unique': 1, 'abilities': 1, 'and': 7, 'potential': 1, 'respects': 1, 'the': 5, 'personal': 1, 'academic': 1, 'freedom': 1, 'all': 3, 'members': 2, 'at': 1, 'same': 1, 'time': 1, 'we': 1, 'seek': 1, 'to': 3, 'develop': 1, 'a': 3, 'greater': 1, 'sense': 2, 'community': 1, 'that': 1, 'our': 1, 'belong': 1, 'are': 1, 'involved': 1, 'in': 2, 'sharing': 1, 'common': 3, 'goals': 1, 'commitment': 1, 'truth': 1, 'justice': 1, 'manifesting': 1, 'their': 1, 'lives': 1, 'concern': 1, 'for': 1, 'others': 1, 'which': 1, 'is': 1, 'obligation': 1, 'educated': 1, 'mature': 1, 'human': 1, 'beings': 1}\n"
     ]
    }
   ],
   "source": [
    "# Prob 1\n",
    "text = \"\"\"\n",
    "Fairfield University values each of its students as individuals with unique abilities and potential, \n",
    "and respects the personal and academic freedom of all its members. At the same time, we seek to develop \n",
    "a greater sense of community, a sense that all of our members belong to and are involved in the University, \n",
    "sharing common goals and a common commitment to truth and justice, and manifesting in their lives the \n",
    "common concern for others which is the obligation of all educated, mature human beings.\n",
    "\"\"\"\n",
    "\n",
    "text = text.replace(\",\", \"\").replace(\".\", \"\").replace(\";\", \"\").replace(\":\", \"\").lower()\n",
    "words = text.split()\n",
    "\n",
    "word_count = {}\n",
    "for word in words:\n",
    "    if word in word_count:\n",
    "        word_count[word] += 1\n",
    "    else:\n",
    "        word_count[word] = 1\n",
    "\n",
    "print(word_count)\n"
   ]
  },
  {
   "cell_type": "markdown",
   "metadata": {},
   "source": [
    "## Prob. 2: You are given a list of tuples, where each tuple contains the name of a student and their score on a recent exam. Your task is to:\n",
    "\n",
    "1. Sort the list of tuples in descending order of the students' scores.\n",
    "1. Extract and print the top 3 students and their scores from the sorted list.\n",
    "1. Calculate and print the average score of all students.\n",
    "\n",
    "---\n",
    "\n",
    "### Given Data:\n",
    "\n",
    "students_scores = [\n",
    "\n",
    "   (\"Alice\", 85),\n",
    "\n",
    "   (\"Bob\", 92),\n",
    "\n",
    "   (\"Charlie\", 78),\n",
    "\n",
    "   (\"Diana\", 90),\n",
    "\n",
    "   (\"Eve\", 88),\n",
    "\n",
    "   (\"Frank\", 75),\n",
    "\n",
    "   (\"Grace\", 95)\n",
    "\n",
    "]\n",
    "\n",
    "---\n",
    "\n",
    "Expected Output:\n",
    "\n",
    "- A sorted list of tuples in descending order by scores.\n",
    "- The top 3 students (with the highest scores).\n",
    "- The average score of all students.\n",
    "\n",
    "---"
   ]
  },
  {
   "cell_type": "code",
   "execution_count": 97,
   "metadata": {},
   "outputs": [
    {
     "name": "stdout",
     "output_type": "stream",
     "text": [
      "Sorted list of students by scores (descending): [('Grace', 95), ('Bob', 92), ('Diana', 90), ('Eve', 88), ('Alice', 85), ('Charlie', 78), ('Frank', 75)]\n",
      "Top 3 students: [('Grace', 95), ('Bob', 92), ('Diana', 90)]\n",
      "Average score: 86.14285714285714\n"
     ]
    }
   ],
   "source": [
    "# Prob 2\n",
    "students_scores = [\n",
    "   (\"Alice\", 85),\n",
    "   (\"Bob\", 92),\n",
    "   (\"Charlie\", 78),\n",
    "   (\"Diana\", 90),\n",
    "   (\"Eve\", 88),\n",
    "   (\"Frank\", 75),\n",
    "   (\"Grace\", 95)\n",
    "]\n",
    "\n",
    "sorted_scores = sorted([(score, name) for name, score in students_scores], reverse=True)\n",
    "\n",
    "sorted_scores = [(name, score) for score, name in sorted_scores]\n",
    "\n",
    "top_3_students = sorted_scores[:3]\n",
    "\n",
    "average_score = sum(score for _, score in students_scores) / len(students_scores)\n",
    "\n",
    "print(\"Sorted list of students by scores (descending):\", sorted_scores)\n",
    "print(\"Top 3 students:\", top_3_students)\n",
    "print(\"Average score:\", average_score)"
   ]
  }
 ],
 "metadata": {
  "kernelspec": {
   "display_name": "Python 3",
   "language": "python",
   "name": "python3"
  },
  "language_info": {
   "codemirror_mode": {
    "name": "ipython",
    "version": 3
   },
   "file_extension": ".py",
   "mimetype": "text/x-python",
   "name": "python",
   "nbconvert_exporter": "python",
   "pygments_lexer": "ipython3",
   "version": "3.11.9"
  }
 },
 "nbformat": 4,
 "nbformat_minor": 2
}
