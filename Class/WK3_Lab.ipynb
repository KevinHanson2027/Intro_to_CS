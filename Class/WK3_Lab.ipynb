{
 "cells": [
  {
   "cell_type": "markdown",
   "id": "5d6e98e9",
   "metadata": {},
   "source": [
    "# Python Programming Exercises\n",
    "\n",
    "## Introduction\n",
    "\n",
    "Welcome to the Python programming exercises! This notebook will guide you through some fundamental concepts in Python programming, including:\n",
    "\n",
    "- The `print()` function\n",
    "- Variables\n",
    "- Data Types\n",
    "- Strings\n",
    "\n",
    "Each section includes explanations, examples, and exercises for you to complete. Let's get started!\n",
    "\n",
    "**Each Problem is 10 points. The bonus question is optional, if you did right, you get 5 points extra.**"
   ]
  },
  {
   "cell_type": "markdown",
   "id": "b6c6bf5e",
   "metadata": {},
   "source": [
    "## 1. The `print()` Function\n",
    "\n",
    "### Introduction\n",
    "\n",
    "The `print()` function is used to output data to the screen. It's one of the most commonly used functions in Python and is essential for displaying information."
   ]
  },
  {
   "cell_type": "code",
   "execution_count": null,
   "id": "f9b5c1f8",
   "metadata": {},
   "outputs": [],
   "source": [
    "# Example\n",
    "print(\"Hello, World!\")"
   ]
  },
  {
   "cell_type": "markdown",
   "id": "88ad84fe",
   "metadata": {},
   "source": [
    "You can print multiple items by separating them with commas:"
   ]
  },
  {
   "cell_type": "code",
   "execution_count": null,
   "id": "c4ad43c8",
   "metadata": {},
   "outputs": [],
   "source": [
    "print(\"The sum of 2 and 3 is\", 2 + 3)"
   ]
  },
  {
   "cell_type": "markdown",
   "id": "9509ab86",
   "metadata": {},
   "source": [
    "### Exercises\n",
    "\n",
    "**Exercise 1:**\n",
    "\n",
    "Write a Python program that prints the following text:\n",
    "\n",
    "```\n",
    "Learning Python is fun!\n",
    "```\n",
    "\n",
    "*Your code here:*"
   ]
  },
  {
   "cell_type": "code",
   "execution_count": 2,
   "id": "9a137913",
   "metadata": {},
   "outputs": [
    {
     "name": "stdout",
     "output_type": "stream",
     "text": [
      "Learning Python is fun!\n"
     ]
    }
   ],
   "source": [
    "# Exercise 1\n",
    "# Your code here\n",
    "print(\"Learning Python is fun!\")"
   ]
  },
  {
   "cell_type": "markdown",
   "id": "01b8c3e5",
   "metadata": {},
   "source": [
    "**Exercise 2:**\n",
    "\n",
    "Use the `print()` function to display the result of `7 multiplied by 8`.\n",
    "\n",
    "*Your code here:*"
   ]
  },
  {
   "cell_type": "code",
   "execution_count": 3,
   "id": "ebd928fa",
   "metadata": {},
   "outputs": [
    {
     "name": "stdout",
     "output_type": "stream",
     "text": [
      "56\n"
     ]
    }
   ],
   "source": [
    "# Exercise 2\n",
    "# Your code here\n",
    "print(7 * 8)"
   ]
  },
  {
   "cell_type": "markdown",
   "id": "fe37e0d8",
   "metadata": {},
   "source": [
    "## 2. Variables\n",
    "\n",
    "### Introduction\n",
    "\n",
    "Variables are used to store data that can be used later in your program. In Python, you can assign a value to a variable using the equals sign `=`."
   ]
  },
  {
   "cell_type": "code",
   "execution_count": null,
   "id": "bc0728b1",
   "metadata": {},
   "outputs": [],
   "source": [
    "# Examples\n",
    "\n",
    "# Assigning values to variables\n",
    "age = 25\n",
    "name = \"Alice\"\n",
    "pi = 3.14159\n",
    "\n",
    "# Using variables\n",
    "print(\"Name:\", name)\n",
    "print(\"Age:\", age)\n",
    "print(\"Value of pi:\", pi)"
   ]
  },
  {
   "cell_type": "markdown",
   "id": "306297f6",
   "metadata": {},
   "source": [
    "### Exercises\n",
    "\n",
    "**Exercise 3:**\n",
    "\n",
    "Create variables `a` and `b` and assign them the values `10` and `15` respectively. Then, print their sum.\n",
    "\n",
    "*Your code here:*"
   ]
  },
  {
   "cell_type": "code",
   "execution_count": 43,
   "id": "425eddf2",
   "metadata": {},
   "outputs": [
    {
     "name": "stdout",
     "output_type": "stream",
     "text": [
      "25\n"
     ]
    }
   ],
   "source": [
    "# Exercise 3\n",
    "# Your code \n",
    "a = 10\n",
    "b = 15 \n",
    "print(a + b)"
   ]
  },
  {
   "cell_type": "markdown",
   "id": "b8245f4c",
   "metadata": {},
   "source": [
    "**Exercise 4:**\n",
    "\n",
    "Assign your first name to a variable called `first_name` and your last name to a variable called `last_name`. Use these variables to print your full name.\n",
    "\n",
    "*Your code here:*"
   ]
  },
  {
   "cell_type": "code",
   "execution_count": 13,
   "id": "7ef30bf0",
   "metadata": {},
   "outputs": [
    {
     "name": "stdout",
     "output_type": "stream",
     "text": [
      "Kevin Hanson\n"
     ]
    }
   ],
   "source": [
    "# Exercise 4\n",
    "# Your code here\n",
    "first_name = \"Kevin\" \n",
    "last_name = \"Hanson\"\n",
    "\n",
    "print(first_name, last_name)"
   ]
  },
  {
   "cell_type": "markdown",
   "id": "02ef3cd6",
   "metadata": {},
   "source": [
    "## 3. Data Types\n",
    "\n",
    "### Introduction\n",
    "\n",
    "Python has several built-in data types, including:\n",
    "\n",
    "- **Integers** (`int`): Whole numbers, e.g., `42`\n",
    "- **Floating-point numbers** (`float`): Numbers with a decimal point, e.g., `3.14`\n",
    "- **Strings** (`str`): Text data, e.g., `\"Hello\"`\n",
    "- **Booleans** (`bool`): `True` or `False`\n",
    "\n",
    "You can check the type of a variable using the `type()` function."
   ]
  },
  {
   "cell_type": "code",
   "execution_count": null,
   "id": "ae864ccd",
   "metadata": {},
   "outputs": [],
   "source": [
    "# Examples\n",
    "\n",
    "x = 42\n",
    "y = 3.14\n",
    "z = \"Hello\"\n",
    "is_python_fun = True\n",
    "\n",
    "print(type(x))              # Output: <class 'int'>\n",
    "print(type(y))              # Output: <class 'float'>\n",
    "print(type(z))              # Output: <class 'str'>\n",
    "print(type(is_python_fun))  # Output: <class 'bool'>"
   ]
  },
  {
   "cell_type": "markdown",
   "id": "fcfd8afc",
   "metadata": {},
   "source": [
    "### Exercises\n",
    "\n",
    "**Exercise 5:**\n",
    "\n",
    "Assign the value `3.5` to a variable called `temperature`. Check and print the data type of this variable.\n",
    "\n",
    "*Your code here:*"
   ]
  },
  {
   "cell_type": "code",
   "execution_count": 14,
   "id": "c74619a9",
   "metadata": {},
   "outputs": [
    {
     "name": "stdout",
     "output_type": "stream",
     "text": [
      "<class 'float'>\n"
     ]
    }
   ],
   "source": [
    "# Exercise 5\n",
    "# Your code here\n",
    "temperature = 3.5 \n",
    "print(type(temperature))"
   ]
  },
  {
   "cell_type": "markdown",
   "id": "15d75004",
   "metadata": {},
   "source": [
    "**Exercise 6:**\n",
    "\n",
    "Create a variable `is_student` and assign it a boolean value indicating whether you are a student or not. Print a message using this variable.\n",
    "\n",
    "*Your code here:*"
   ]
  },
  {
   "cell_type": "code",
   "execution_count": 17,
   "id": "9e548bb0",
   "metadata": {},
   "outputs": [
    {
     "name": "stdout",
     "output_type": "stream",
     "text": [
      "Am I a student? True\n"
     ]
    }
   ],
   "source": [
    "# Exercise 6\n",
    "# Your code here\n",
    "is_student = True\n",
    "print(\"Am I a student?\", is_student)"
   ]
  },
  {
   "cell_type": "markdown",
   "id": "6c1c4e65",
   "metadata": {},
   "source": [
    "## 4. Strings\n",
    "\n",
    "### Introduction\n",
    "\n",
    "Strings are sequences of characters enclosed in quotes. Python provides many operations and methods to work with strings.\n",
    "\n",
    "#### String Concatenation\n",
    "\n",
    "You can concatenate (combine) strings using the `+` operator."
   ]
  },
  {
   "cell_type": "code",
   "execution_count": null,
   "id": "4a96141c",
   "metadata": {},
   "outputs": [],
   "source": [
    "# Example of string concatenation\n",
    "greeting = \"Hello\"\n",
    "name = \"Bob\"\n",
    "message = greeting + \", \" + name + \"!\"\n",
    "print(message)"
   ]
  },
  {
   "cell_type": "markdown",
   "id": "5b595bf6",
   "metadata": {},
   "source": [
    "#### String Methods\n",
    "\n",
    "Python strings come with built-in methods for common tasks."
   ]
  },
  {
   "cell_type": "code",
   "execution_count": null,
   "id": "48be630e",
   "metadata": {},
   "outputs": [],
   "source": [
    "# Examples of string methods\n",
    "text = \"python programming\"\n",
    "\n",
    "# Convert to uppercase\n",
    "print(text.upper())           # Output: PYTHON PROGRAMMING\n",
    "\n",
    "# Find the position of a substring\n",
    "print(text.find(\"program\"))   # Output: 7\n",
    "\n",
    "# Replace a substring\n",
    "print(text.replace(\"python\", \"Java\"))  # Output: Java programming"
   ]
  },
  {
   "cell_type": "markdown",
   "id": "09af464e",
   "metadata": {},
   "source": [
    "#### String Slicing\n",
    "\n",
    "You can access parts of a string using slicing."
   ]
  },
  {
   "cell_type": "code",
   "execution_count": null,
   "id": "bc9f4c3a",
   "metadata": {},
   "outputs": [],
   "source": [
    "# Examples of string slicing\n",
    "s = \"Hello, World!\"\n",
    "\n",
    "# Get the first 5 characters\n",
    "print(s[:5])    # Output: Hello\n",
    "\n",
    "# Get the last 6 characters\n",
    "print(s[-6:])   # Output: World!\n",
    "\n",
    "# Get every other character\n",
    "print(s[::2])   # Output: Hlo ol!"
   ]
  },
  {
   "cell_type": "markdown",
   "id": "1f275a9d",
   "metadata": {},
   "source": [
    "### Exercises\n",
    "\n",
    "**Exercise 7:**\n",
    "\n",
    "Ask the user to enter a word. Print the word in uppercase letters.\n",
    "\n",
    "*Your code here:*"
   ]
  },
  {
   "cell_type": "code",
   "execution_count": 63,
   "id": "6794b640",
   "metadata": {},
   "outputs": [
    {
     "name": "stdout",
     "output_type": "stream",
     "text": [
      "Please Enter a word below\n",
      "Kevin Hanson\n",
      "Here's your name in uppercase\n",
      "KEVIN HANSON\n"
     ]
    }
   ],
   "source": [
    "# Exercise 7\n",
    "# Your code here\n",
    "print(\"Please Enter a word below\")\n",
    "word = (input())\n",
    "print(f\"{word}\")\n",
    "\n",
    "print(\"Here's your name in uppercase\")\n",
    "print(word.upper())"
   ]
  },
  {
   "cell_type": "markdown",
   "id": "b48d8442",
   "metadata": {},
   "source": [
    "**Exercise 8:**\n",
    "\n",
    "Given the string `s = \"Data Science\"`, use string slicing to print:\n",
    "\n",
    "- The first four characters\n",
    "- The last four characters\n",
    "- The string in reverse order\n",
    "\n",
    "*Your code here:*"
   ]
  },
  {
   "cell_type": "code",
   "execution_count": 65,
   "id": "fb07cdb7",
   "metadata": {},
   "outputs": [
    {
     "name": "stdout",
     "output_type": "stream",
     "text": [
      "Data\n",
      "ence\n",
      "ecneicS ataD\n"
     ]
    }
   ],
   "source": [
    "# Exercise 8\n",
    "s = \"Data Science\"\n",
    "# Your code here\n",
    "print(f\"{s [:4]}\")\n",
    "print(f\"{s [-4:]}\")\n",
    "print(f\"{s [::-1]}\")"
   ]
  },
  {
   "cell_type": "markdown",
   "id": "11be8554",
   "metadata": {},
   "source": [
    "**Exercise 9:**\n",
    "\n",
    "Write a program that asks the user for their name and age. Then, print a message that says:\n",
    "\n",
    "```\n",
    "Hello, [name]! You are [age] years old.\n",
    "```\n",
    "\n",
    "*Your code here:*"
   ]
  },
  {
   "cell_type": "code",
   "execution_count": 67,
   "id": "6d7d1ab9",
   "metadata": {},
   "outputs": [
    {
     "name": "stdout",
     "output_type": "stream",
     "text": [
      "Hello! Welconme to the program!\n",
      "Please enter your name below:\n",
      "Kevin \n",
      "Please enter your age below:\n",
      "19\n",
      "Hello, Kevin ! You are 19 years old.\n"
     ]
    }
   ],
   "source": [
    "# Exercise 9\n",
    "# Your code here\n",
    "print(\"Hello! Welconme to the program!\")\n",
    "print(\"Please enter your name below:\")\n",
    "name = input()\n",
    "print(f\"{name}\")\n",
    "\n",
    "print(\"Please enter your age below:\")\n",
    "age = input()\n",
    "print(f\"{age}\")\n",
    "\n",
    "print(f\"Hello, {name}! You are {age} years old.\")"
   ]
  },
  {
   "cell_type": "markdown",
   "id": "af5ef60e",
   "metadata": {},
   "source": [
    "## 5. Putting It All Together\n",
    "\n",
    "### Exercise 10:\n",
    "\n",
    "Write a program that:\n",
    "\n",
    "1. Asks the user to enter two numbers.\n",
    "2. Stores the numbers in variables.\n",
    "3. Calculates the sum (+), difference(-), product(*), and quotient(/) of the two numbers.\n",
    "4. Prints the results in a formatted string.\n",
    "\n",
    "**Example Output:**\n",
    "\n",
    "```\n",
    "Enter the first number: 10\n",
    "Enter the second number: 5\n",
    "\n",
    "Sum: 15\n",
    "Difference: 5\n",
    "Product: 50\n",
    "Quotient: 2.0\n",
    "```\n",
    "\n",
    "*Your code here:*"
   ]
  },
  {
   "cell_type": "code",
   "execution_count": 52,
   "id": "23bf3ef0",
   "metadata": {},
   "outputs": [
    {
     "name": "stdout",
     "output_type": "stream",
     "text": [
      "Please enter two numbers below:\n",
      " \n",
      "First number:\n",
      "100\n",
      " \n",
      "Second number:\n",
      "200\n",
      " \n",
      "Sum: 300\n",
      "Difference: -100\n",
      "Product: 20000\n",
      "Quotient: 0.5\n"
     ]
    }
   ],
   "source": [
    "# Exercise 10\n",
    "# Your code here\n",
    "print(\"Please enter two numbers below:\")\n",
    "\n",
    "print(\" \")\n",
    "print(\"First number:\")\n",
    "num1 = int(input())\n",
    "print(f\"{num1}\")\n",
    "\n",
    "print(\" \")\n",
    "print(\"Second number:\")\n",
    "num2 = int(input())\n",
    "print(f\"{num2}\")\n",
    "\n",
    "sum = num1 + num2 \n",
    "dif = num1 - num2\n",
    "prod = num1 * num2\n",
    "quo = num1 / num2\n",
    "\n",
    "print(\" \")\n",
    "print(f\"Sum: {sum}\")\n",
    "print(f\"Difference: {dif}\")\n",
    "print(f\"Product: {prod}\")\n",
    "print(f\"Quotient: {quo}\")\n",
    "\n"
   ]
  },
  {
   "cell_type": "markdown",
   "id": "85a719a1",
   "metadata": {},
   "source": [
    "## Bonus Question\n",
    "### Bonue Exercise :\n",
    "\n",
    "Create a program that:\n",
    "\n",
    "1. Asks the user to input a sentence.\n",
    "2. Prints the number of characters in the sentence.\n",
    "3. Prints the sentence in all lowercase letters.\n",
    "4. Replaces all occurrences of the letter 'a' with '@'.\n",
    "\n",
    "*Your code here:*"
   ]
  },
  {
   "cell_type": "code",
   "execution_count": 54,
   "id": "41c1afce",
   "metadata": {},
   "outputs": [
    {
     "name": "stdout",
     "output_type": "stream",
     "text": [
      "Input a sentence below:\n",
      " \n",
      "Enter sentence here:\n",
      "I Love Computer Science yayayayayayay\n",
      " \n",
      "Here is the number of characters in your sentence\n",
      "37\n",
      " \n",
      "Here is your sentence in lowercase\n",
      "i love computer science yayayayayayay\n",
      " \n",
      "Here is your sentence with 'a' replaced with '@'\n",
      "I Love Computer Science y@y@y@y@y@y@y\n"
     ]
    }
   ],
   "source": [
    "# Exercise 11\n",
    "# Your code here\n",
    "\n",
    "print(\"Input a sentence below:\")\n",
    "print(\" \")\n",
    "\n",
    "print(\"Enter sentence here:\")\n",
    "sentence = input()\n",
    "print(f\"{sentence}\")\n",
    "print(\" \")\n",
    "\n",
    "print(\"Here is the number of characters in your sentence\")\n",
    "print(len(sentence))\n",
    "print(\" \")\n",
    "\n",
    "print(\"Here is your sentence in lowercase\")\n",
    "print(sentence.lower())\n",
    "print(\" \")\n",
    "\n",
    "print(\"Here is your sentence with 'a' replaced with '@'\")\n",
    "print(sentence.replace(\"a\", \"@\"))"
   ]
  },
  {
   "cell_type": "markdown",
   "id": "baf9b5b1",
   "metadata": {},
   "source": [
    "## Conclusion\n",
    "\n",
    "Great job completing these exercises! These fundamental concepts are crucial for your journey in learning Python programming. Keep practicing, and don't hesitate to explore more advanced topics as you progress.\n",
    "\n",
    "## _Submit your solution with this Notebook file to Blackboard._"
   ]
  },
  {
   "cell_type": "markdown",
   "id": "050ade09",
   "metadata": {},
   "source": []
  }
 ],
 "metadata": {
  "kernelspec": {
   "display_name": "Python 3",
   "language": "python",
   "name": "python3"
  },
  "language_info": {
   "codemirror_mode": {
    "name": "ipython",
    "version": 3
   },
   "file_extension": ".py",
   "mimetype": "text/x-python",
   "name": "python",
   "nbconvert_exporter": "python",
   "pygments_lexer": "ipython3",
   "version": "3.11.9"
  }
 },
 "nbformat": 4,
 "nbformat_minor": 5
}
